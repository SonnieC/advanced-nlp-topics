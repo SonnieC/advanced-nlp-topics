{
 "cells": [
  {
   "cell_type": "markdown",
   "metadata": {},
   "source": [
    "# NLP Summarization\n",
    "\n",
    "Using the sumy package, we test various types of summarization techniques then summarize our wine data."
   ]
  },
  {
   "cell_type": "code",
   "execution_count": 1,
   "metadata": {
    "collapsed": true
   },
   "outputs": [],
   "source": [
    "import pandas as pd\n",
    "import sumy\n",
    "import datetime as dt\n",
    "\n",
    "%matplotlib inline"
   ]
  },
  {
   "cell_type": "code",
   "execution_count": 2,
   "metadata": {
    "collapsed": true
   },
   "outputs": [],
   "source": [
    "from sumy.parsers.plaintext import PlaintextParser\n",
    "from sumy.nlp.tokenizers import Tokenizer\n",
    "from sumy.summarizers.lex_rank import LexRankSummarizer \n",
    "from sumy.summarizers.luhn import LuhnSummarizer\n",
    "from sumy.summarizers.lsa import LsaSummarizer\n",
    "from sumy.summarizers.text_rank import TextRankSummarizer\n",
    "from sumy.nlp.stemmers import Stemmer\n",
    "from sumy.utils import get_stop_words\n",
    "\n",
    "LANGUAGE = \"english\"\n",
    "SENTENCES_COUNT = 1"
   ]
  },
  {
   "cell_type": "markdown",
   "metadata": {},
   "source": [
    "## Evaluate the two data files"
   ]
  },
  {
   "cell_type": "code",
   "execution_count": 5,
   "metadata": {},
   "outputs": [
    {
     "data": {
      "text/html": [
       "<div>\n",
       "<style>\n",
       "    .dataframe thead tr:only-child th {\n",
       "        text-align: right;\n",
       "    }\n",
       "\n",
       "    .dataframe thead th {\n",
       "        text-align: left;\n",
       "    }\n",
       "\n",
       "    .dataframe tbody tr th {\n",
       "        vertical-align: top;\n",
       "    }\n",
       "</style>\n",
       "<table border=\"1\" class=\"dataframe\">\n",
       "  <thead>\n",
       "    <tr style=\"text-align: right;\">\n",
       "      <th></th>\n",
       "      <th>Unnamed: 0</th>\n",
       "      <th>country</th>\n",
       "      <th>description</th>\n",
       "      <th>designation</th>\n",
       "      <th>points</th>\n",
       "      <th>price</th>\n",
       "      <th>province</th>\n",
       "      <th>region_1</th>\n",
       "      <th>region_2</th>\n",
       "      <th>variety</th>\n",
       "      <th>winery</th>\n",
       "    </tr>\n",
       "  </thead>\n",
       "  <tbody>\n",
       "    <tr>\n",
       "      <th>0</th>\n",
       "      <td>0</td>\n",
       "      <td>US</td>\n",
       "      <td>This tremendous 100% varietal wine hails from ...</td>\n",
       "      <td>Martha's Vineyard</td>\n",
       "      <td>96</td>\n",
       "      <td>235.0</td>\n",
       "      <td>California</td>\n",
       "      <td>Napa Valley</td>\n",
       "      <td>Napa</td>\n",
       "      <td>Cabernet Sauvignon</td>\n",
       "      <td>Heitz</td>\n",
       "    </tr>\n",
       "    <tr>\n",
       "      <th>1</th>\n",
       "      <td>1</td>\n",
       "      <td>Spain</td>\n",
       "      <td>Ripe aromas of fig, blackberry and cassis are ...</td>\n",
       "      <td>Carodorum SelecciÃ³n Especial Reserva</td>\n",
       "      <td>96</td>\n",
       "      <td>110.0</td>\n",
       "      <td>Northern Spain</td>\n",
       "      <td>Toro</td>\n",
       "      <td>NaN</td>\n",
       "      <td>Tinta de Toro</td>\n",
       "      <td>Bodega Carmen RodrÃ­guez</td>\n",
       "    </tr>\n",
       "    <tr>\n",
       "      <th>2</th>\n",
       "      <td>2</td>\n",
       "      <td>US</td>\n",
       "      <td>Mac Watson honors the memory of a wine once ma...</td>\n",
       "      <td>Special Selected Late Harvest</td>\n",
       "      <td>96</td>\n",
       "      <td>90.0</td>\n",
       "      <td>California</td>\n",
       "      <td>Knights Valley</td>\n",
       "      <td>Sonoma</td>\n",
       "      <td>Sauvignon Blanc</td>\n",
       "      <td>Macauley</td>\n",
       "    </tr>\n",
       "    <tr>\n",
       "      <th>3</th>\n",
       "      <td>3</td>\n",
       "      <td>US</td>\n",
       "      <td>This spent 20 months in 30% new French oak, an...</td>\n",
       "      <td>Reserve</td>\n",
       "      <td>96</td>\n",
       "      <td>65.0</td>\n",
       "      <td>Oregon</td>\n",
       "      <td>Willamette Valley</td>\n",
       "      <td>Willamette Valley</td>\n",
       "      <td>Pinot Noir</td>\n",
       "      <td>Ponzi</td>\n",
       "    </tr>\n",
       "    <tr>\n",
       "      <th>4</th>\n",
       "      <td>4</td>\n",
       "      <td>France</td>\n",
       "      <td>This is the top wine from La BÃ©gude, named af...</td>\n",
       "      <td>La BrÃ»lade</td>\n",
       "      <td>95</td>\n",
       "      <td>66.0</td>\n",
       "      <td>Provence</td>\n",
       "      <td>Bandol</td>\n",
       "      <td>NaN</td>\n",
       "      <td>Provence red blend</td>\n",
       "      <td>Domaine de la BÃ©gude</td>\n",
       "    </tr>\n",
       "  </tbody>\n",
       "</table>\n",
       "</div>"
      ],
      "text/plain": [
       "   Unnamed: 0 country                                        description  \\\n",
       "0           0      US  This tremendous 100% varietal wine hails from ...   \n",
       "1           1   Spain  Ripe aromas of fig, blackberry and cassis are ...   \n",
       "2           2      US  Mac Watson honors the memory of a wine once ma...   \n",
       "3           3      US  This spent 20 months in 30% new French oak, an...   \n",
       "4           4  France  This is the top wine from La BÃ©gude, named af...   \n",
       "\n",
       "                             designation  points  price        province  \\\n",
       "0                      Martha's Vineyard      96  235.0      California   \n",
       "1  Carodorum SelecciÃ³n Especial Reserva      96  110.0  Northern Spain   \n",
       "2          Special Selected Late Harvest      96   90.0      California   \n",
       "3                                Reserve      96   65.0          Oregon   \n",
       "4                            La BrÃ»lade      95   66.0        Provence   \n",
       "\n",
       "            region_1           region_2             variety  \\\n",
       "0        Napa Valley               Napa  Cabernet Sauvignon   \n",
       "1               Toro                NaN       Tinta de Toro   \n",
       "2     Knights Valley             Sonoma     Sauvignon Blanc   \n",
       "3  Willamette Valley  Willamette Valley          Pinot Noir   \n",
       "4             Bandol                NaN  Provence red blend   \n",
       "\n",
       "                     winery  \n",
       "0                     Heitz  \n",
       "1  Bodega Carmen RodrÃ­guez  \n",
       "2                  Macauley  \n",
       "3                     Ponzi  \n",
       "4     Domaine de la BÃ©gude  "
      ]
     },
     "execution_count": 5,
     "metadata": {},
     "output_type": "execute_result"
    }
   ],
   "source": [
    "# Read in data file 1\n",
    "df = pd.read_csv('winemag-data_first150k.csv',encoding='Latin-1')\n",
    "df.head()"
   ]
  },
  {
   "cell_type": "code",
   "execution_count": 6,
   "metadata": {},
   "outputs": [
    {
     "data": {
      "text/plain": [
       "Index(['Unnamed: 0', 'country', 'description', 'designation', 'points',\n",
       "       'price', 'province', 'region_1', 'region_2', 'variety', 'winery'],\n",
       "      dtype='object')"
      ]
     },
     "execution_count": 6,
     "metadata": {},
     "output_type": "execute_result"
    }
   ],
   "source": [
    "df.columns"
   ]
  },
  {
   "cell_type": "code",
   "execution_count": 7,
   "metadata": {},
   "outputs": [
    {
     "data": {
      "text/html": [
       "<div>\n",
       "<style>\n",
       "    .dataframe thead tr:only-child th {\n",
       "        text-align: right;\n",
       "    }\n",
       "\n",
       "    .dataframe thead th {\n",
       "        text-align: left;\n",
       "    }\n",
       "\n",
       "    .dataframe tbody tr th {\n",
       "        vertical-align: top;\n",
       "    }\n",
       "</style>\n",
       "<table border=\"1\" class=\"dataframe\">\n",
       "  <thead>\n",
       "    <tr style=\"text-align: right;\">\n",
       "      <th></th>\n",
       "      <th>Unnamed: 0</th>\n",
       "      <th>country</th>\n",
       "      <th>description</th>\n",
       "      <th>designation</th>\n",
       "      <th>points</th>\n",
       "      <th>price</th>\n",
       "      <th>province</th>\n",
       "      <th>region_1</th>\n",
       "      <th>region_2</th>\n",
       "      <th>taster_name</th>\n",
       "      <th>taster_twitter_handle</th>\n",
       "      <th>title</th>\n",
       "      <th>variety</th>\n",
       "      <th>winery</th>\n",
       "    </tr>\n",
       "  </thead>\n",
       "  <tbody>\n",
       "    <tr>\n",
       "      <th>0</th>\n",
       "      <td>0</td>\n",
       "      <td>Italy</td>\n",
       "      <td>Aromas include tropical fruit, broom, brimston...</td>\n",
       "      <td>VulkÃ  Bianco</td>\n",
       "      <td>87</td>\n",
       "      <td>NaN</td>\n",
       "      <td>Sicily &amp; Sardinia</td>\n",
       "      <td>Etna</td>\n",
       "      <td>NaN</td>\n",
       "      <td>Kerin OâKeefe</td>\n",
       "      <td>@kerinokeefe</td>\n",
       "      <td>Nicosia 2013 VulkÃ  Bianco  (Etna)</td>\n",
       "      <td>White Blend</td>\n",
       "      <td>Nicosia</td>\n",
       "    </tr>\n",
       "    <tr>\n",
       "      <th>1</th>\n",
       "      <td>1</td>\n",
       "      <td>Portugal</td>\n",
       "      <td>This is ripe and fruity, a wine that is smooth...</td>\n",
       "      <td>Avidagos</td>\n",
       "      <td>87</td>\n",
       "      <td>15.0</td>\n",
       "      <td>Douro</td>\n",
       "      <td>NaN</td>\n",
       "      <td>NaN</td>\n",
       "      <td>Roger Voss</td>\n",
       "      <td>@vossroger</td>\n",
       "      <td>Quinta dos Avidagos 2011 Avidagos Red (Douro)</td>\n",
       "      <td>Portuguese Red</td>\n",
       "      <td>Quinta dos Avidagos</td>\n",
       "    </tr>\n",
       "    <tr>\n",
       "      <th>2</th>\n",
       "      <td>2</td>\n",
       "      <td>US</td>\n",
       "      <td>Tart and snappy, the flavors of lime flesh and...</td>\n",
       "      <td>NaN</td>\n",
       "      <td>87</td>\n",
       "      <td>14.0</td>\n",
       "      <td>Oregon</td>\n",
       "      <td>Willamette Valley</td>\n",
       "      <td>Willamette Valley</td>\n",
       "      <td>Paul Gregutt</td>\n",
       "      <td>@paulgwineÂ</td>\n",
       "      <td>Rainstorm 2013 Pinot Gris (Willamette Valley)</td>\n",
       "      <td>Pinot Gris</td>\n",
       "      <td>Rainstorm</td>\n",
       "    </tr>\n",
       "    <tr>\n",
       "      <th>3</th>\n",
       "      <td>3</td>\n",
       "      <td>US</td>\n",
       "      <td>Pineapple rind, lemon pith and orange blossom ...</td>\n",
       "      <td>Reserve Late Harvest</td>\n",
       "      <td>87</td>\n",
       "      <td>13.0</td>\n",
       "      <td>Michigan</td>\n",
       "      <td>Lake Michigan Shore</td>\n",
       "      <td>NaN</td>\n",
       "      <td>Alexander Peartree</td>\n",
       "      <td>NaN</td>\n",
       "      <td>St. Julian 2013 Reserve Late Harvest Riesling ...</td>\n",
       "      <td>Riesling</td>\n",
       "      <td>St. Julian</td>\n",
       "    </tr>\n",
       "    <tr>\n",
       "      <th>4</th>\n",
       "      <td>4</td>\n",
       "      <td>US</td>\n",
       "      <td>Much like the regular bottling from 2012, this...</td>\n",
       "      <td>Vintner's Reserve Wild Child Block</td>\n",
       "      <td>87</td>\n",
       "      <td>65.0</td>\n",
       "      <td>Oregon</td>\n",
       "      <td>Willamette Valley</td>\n",
       "      <td>Willamette Valley</td>\n",
       "      <td>Paul Gregutt</td>\n",
       "      <td>@paulgwineÂ</td>\n",
       "      <td>Sweet Cheeks 2012 Vintner's Reserve Wild Child...</td>\n",
       "      <td>Pinot Noir</td>\n",
       "      <td>Sweet Cheeks</td>\n",
       "    </tr>\n",
       "  </tbody>\n",
       "</table>\n",
       "</div>"
      ],
      "text/plain": [
       "   Unnamed: 0   country                                        description  \\\n",
       "0           0     Italy  Aromas include tropical fruit, broom, brimston...   \n",
       "1           1  Portugal  This is ripe and fruity, a wine that is smooth...   \n",
       "2           2        US  Tart and snappy, the flavors of lime flesh and...   \n",
       "3           3        US  Pineapple rind, lemon pith and orange blossom ...   \n",
       "4           4        US  Much like the regular bottling from 2012, this...   \n",
       "\n",
       "                          designation  points  price           province  \\\n",
       "0                       VulkÃ  Bianco      87    NaN  Sicily & Sardinia   \n",
       "1                            Avidagos      87   15.0              Douro   \n",
       "2                                 NaN      87   14.0             Oregon   \n",
       "3                Reserve Late Harvest      87   13.0           Michigan   \n",
       "4  Vintner's Reserve Wild Child Block      87   65.0             Oregon   \n",
       "\n",
       "              region_1           region_2         taster_name  \\\n",
       "0                 Etna                NaN     Kerin OâKeefe   \n",
       "1                  NaN                NaN          Roger Voss   \n",
       "2    Willamette Valley  Willamette Valley        Paul Gregutt   \n",
       "3  Lake Michigan Shore                NaN  Alexander Peartree   \n",
       "4    Willamette Valley  Willamette Valley        Paul Gregutt   \n",
       "\n",
       "  taster_twitter_handle                                              title  \\\n",
       "0          @kerinokeefe                 Nicosia 2013 VulkÃ  Bianco  (Etna)   \n",
       "1            @vossroger      Quinta dos Avidagos 2011 Avidagos Red (Douro)   \n",
       "2          @paulgwineÂ       Rainstorm 2013 Pinot Gris (Willamette Valley)   \n",
       "3                   NaN  St. Julian 2013 Reserve Late Harvest Riesling ...   \n",
       "4          @paulgwineÂ   Sweet Cheeks 2012 Vintner's Reserve Wild Child...   \n",
       "\n",
       "          variety               winery  \n",
       "0     White Blend              Nicosia  \n",
       "1  Portuguese Red  Quinta dos Avidagos  \n",
       "2      Pinot Gris            Rainstorm  \n",
       "3        Riesling           St. Julian  \n",
       "4      Pinot Noir         Sweet Cheeks  "
      ]
     },
     "execution_count": 7,
     "metadata": {},
     "output_type": "execute_result"
    }
   ],
   "source": [
    "# Read in data file 2\n",
    "df2 = pd.read_csv('winemag-data-130k-v2.csv',encoding='Latin-1')\n",
    "df2.head()"
   ]
  },
  {
   "cell_type": "code",
   "execution_count": 8,
   "metadata": {},
   "outputs": [
    {
     "data": {
      "text/plain": [
       "Index(['Unnamed: 0', 'country', 'description', 'designation', 'points',\n",
       "       'price', 'province', 'region_1', 'region_2', 'taster_name',\n",
       "       'taster_twitter_handle', 'title', 'variety', 'winery'],\n",
       "      dtype='object')"
      ]
     },
     "execution_count": 8,
     "metadata": {},
     "output_type": "execute_result"
    }
   ],
   "source": [
    "df2.columns"
   ]
  },
  {
   "cell_type": "code",
   "execution_count": 8,
   "metadata": {},
   "outputs": [
    {
     "data": {
      "text/plain": [
       "'This tremendous 100% varietal wine hails from Oakville and was aged over three years in oak. Juicy red-cherry fruit and a compelling hint of caramel greet the palate, framed by elegant, fine tannins and a subtle minty tone in the background. Balanced and rewarding from start to finish, it has years ahead of it to develop further nuance. Enjoy 2022â\\x80\\x932030.'"
      ]
     },
     "execution_count": 8,
     "metadata": {},
     "output_type": "execute_result"
    }
   ],
   "source": [
    "# Look at a single description\n",
    "df.loc[0,'description']"
   ]
  },
  {
   "cell_type": "code",
   "execution_count": 9,
   "metadata": {},
   "outputs": [
    {
     "data": {
      "text/plain": [
       "Pinot Noir                  13272\n",
       "Chardonnay                  11753\n",
       "Cabernet Sauvignon           9472\n",
       "Red Blend                    8946\n",
       "Bordeaux-style Red Blend     6915\n",
       "Riesling                     5189\n",
       "Sauvignon Blanc              4967\n",
       "Syrah                        4142\n",
       "RosÃ©                        3564\n",
       "Merlot                       3102\n",
       "Nebbiolo                     2804\n",
       "Zinfandel                    2714\n",
       "Sangiovese                   2707\n",
       "Malbec                       2652\n",
       "Portuguese Red               2466\n",
       "Name: variety, dtype: int64"
      ]
     },
     "execution_count": 9,
     "metadata": {},
     "output_type": "execute_result"
    }
   ],
   "source": [
    "# How many rows of each variety do we have?\n",
    "df2['variety'].value_counts().head(15)"
   ]
  },
  {
   "cell_type": "code",
   "execution_count": 10,
   "metadata": {},
   "outputs": [
    {
     "data": {
      "text/plain": [
       "Chardonnay                       14482\n",
       "Pinot Noir                       14291\n",
       "Cabernet Sauvignon               12800\n",
       "Red Blend                        10062\n",
       "Bordeaux-style Red Blend          7347\n",
       "Sauvignon Blanc                   6320\n",
       "Syrah                             5825\n",
       "Riesling                          5524\n",
       "Merlot                            5070\n",
       "Zinfandel                         3799\n",
       "Sangiovese                        3345\n",
       "Malbec                            3208\n",
       "White Blend                       2824\n",
       "RosÃ©                             2817\n",
       "Tempranillo                       2556\n",
       "Nebbiolo                          2241\n",
       "Portuguese Red                    2216\n",
       "Sparkling Blend                   2004\n",
       "Shiraz                            1970\n",
       "Corvina, Rondinella, Molinara     1682\n",
       "RhÃ´ne-style Red Blend            1505\n",
       "Pinot Gris                        1365\n",
       "Barbera                           1365\n",
       "Cabernet Franc                    1363\n",
       "Sangiovese Grosso                 1346\n",
       "Pinot Grigio                      1305\n",
       "Viognier                          1263\n",
       "Bordeaux-style White Blend        1261\n",
       "Champagne Blend                   1238\n",
       "Port                              1058\n",
       "GrÃ¼ner Veltliner                 1042\n",
       "GewÃ¼rztraminer                    982\n",
       "Portuguese White                   941\n",
       "Petite Sirah                       897\n",
       "CarmenÃ¨re                         761\n",
       "Tempranillo Blend                  756\n",
       "Chenin Blanc                       746\n",
       "Glera                              622\n",
       "Grenache                           603\n",
       "Prosecco                           594\n",
       "AlbariÃ±o                          537\n",
       "Gamay                              535\n",
       "Pinot Blanc                        470\n",
       "Nero d'Avola                       458\n",
       "Moscato                            430\n",
       "Name: variety, dtype: int64"
      ]
     },
     "execution_count": 10,
     "metadata": {},
     "output_type": "execute_result"
    }
   ],
   "source": [
    "# How many rows of each variety do we have?\n",
    "df['variety'].value_counts().head(45)"
   ]
  },
  {
   "cell_type": "code",
   "execution_count": 18,
   "metadata": {},
   "outputs": [
    {
     "data": {
      "text/plain": [
       "<matplotlib.axes._subplots.AxesSubplot at 0x1d91dc34400>"
      ]
     },
     "execution_count": 18,
     "metadata": {},
     "output_type": "execute_result"
    },
    {
     "data": {
      "image/png": "[encoded data removed]",
      "text/plain": [
       "<matplotlib.figure.Figure at 0x1d91dc96c18>"
      ]
     },
     "metadata": {},
     "output_type": "display_data"
    }
   ],
   "source": [
    "# Get a sense of what fraction of the varieties we need to get 90% coverage of the data\n",
    "(df2['variety'].value_counts().cumsum()/df2['variety'].value_counts().sum()).plot()"
   ]
  },
  {
   "cell_type": "code",
   "execution_count": 11,
   "metadata": {},
   "outputs": [
    {
     "name": "stdout",
     "output_type": "stream",
     "text": [
      "50\n"
     ]
    },
    {
     "data": {
      "text/plain": [
       "Index(['Chardonnay', 'Pinot Noir', 'Cabernet Sauvignon', 'Red Blend',\n",
       "       'Bordeaux-style Red Blend', 'Sauvignon Blanc', 'Syrah', 'Riesling',\n",
       "       'Merlot', 'Zinfandel', 'Sangiovese', 'Malbec', 'White Blend', 'RosÃ©',\n",
       "       'Tempranillo', 'Nebbiolo', 'Portuguese Red', 'Sparkling Blend',\n",
       "       'Shiraz', 'Corvina, Rondinella, Molinara', 'RhÃ´ne-style Red Blend',\n",
       "       'Pinot Gris', 'Barbera', 'Cabernet Franc', 'Sangiovese Grosso',\n",
       "       'Pinot Grigio', 'Viognier', 'Bordeaux-style White Blend',\n",
       "       'Champagne Blend', 'Port', 'GrÃ¼ner Veltliner', 'GewÃ¼rztraminer',\n",
       "       'Portuguese White', 'Petite Sirah', 'CarmenÃ¨re', 'Tempranillo Blend',\n",
       "       'Chenin Blanc', 'Glera', 'Grenache', 'Prosecco', 'AlbariÃ±o', 'Gamay',\n",
       "       'Pinot Blanc', 'Nero d'Avola', 'Moscato', 'RhÃ´ne-style White Blend',\n",
       "       'Garganega', 'Garnacha', 'TorrontÃ©s', 'Dolcetto'],\n",
       "      dtype='object')"
      ]
     },
     "execution_count": 11,
     "metadata": {},
     "output_type": "execute_result"
    }
   ],
   "source": [
    "# How many varieties = 90% in df?\n",
    "varperc = df['variety'].value_counts().cumsum()/df['variety'].value_counts().sum()\n",
    "trimvarperc = varperc[varperc < 0.9]\n",
    "print(len(trimvarperc))\n",
    "trimvarperc.index"
   ]
  },
  {
   "cell_type": "code",
   "execution_count": 12,
   "metadata": {},
   "outputs": [
    {
     "name": "stdout",
     "output_type": "stream",
     "text": [
      "56\n"
     ]
    },
    {
     "data": {
      "text/plain": [
       "Index(['Pinot Noir', 'Chardonnay', 'Cabernet Sauvignon', 'Red Blend',\n",
       "       'Bordeaux-style Red Blend', 'Riesling', 'Sauvignon Blanc', 'Syrah',\n",
       "       'RosÃ©', 'Merlot', 'Nebbiolo', 'Zinfandel', 'Sangiovese', 'Malbec',\n",
       "       'Portuguese Red', 'White Blend', 'Sparkling Blend', 'Tempranillo',\n",
       "       'RhÃ´ne-style Red Blend', 'Pinot Gris', 'Champagne Blend',\n",
       "       'Cabernet Franc', 'GrÃ¼ner Veltliner', 'Portuguese White',\n",
       "       'Bordeaux-style White Blend', 'Pinot Grigio', 'Gamay',\n",
       "       'GewÃ¼rztraminer', 'Viognier', 'Shiraz', 'Petite Sirah',\n",
       "       'Sangiovese Grosso', 'Barbera', 'Glera', 'Port', 'Grenache',\n",
       "       'Corvina, Rondinella, Molinara', 'Chenin Blanc', 'Tempranillo Blend',\n",
       "       'CarmenÃ¨re', 'AlbariÃ±o', 'Pinot Blanc', 'RhÃ´ne-style White Blend',\n",
       "       'Nero d'Avola', 'Aglianico', 'Moscato', 'Garnacha', 'Sauvignon',\n",
       "       'Verdejo', 'Melon', 'Garganega', 'Petit Verdot', 'Meritage',\n",
       "       'TorrontÃ©s', 'Prosecco', 'Vermentino'],\n",
       "      dtype='object')"
      ]
     },
     "execution_count": 12,
     "metadata": {},
     "output_type": "execute_result"
    }
   ],
   "source": [
    "# How many varieties = 90% in df2?\n",
    "varperc = df2['variety'].value_counts().cumsum()/df2['variety'].value_counts().sum()\n",
    "trimvarperc = varperc[varperc < 0.9]\n",
    "print(len(trimvarperc))\n",
    "trimvarperc.index"
   ]
  },
  {
   "cell_type": "code",
   "execution_count": 13,
   "metadata": {
    "collapsed": true
   },
   "outputs": [],
   "source": [
    "# Combine the descriptions for every row into one big string per variety\n",
    "df_trim = df[df['variety'].isin(trimvarperc.index)]\n",
    "\n",
    "def joinf(x):\n",
    "    return ' '.join(x['description'])\n",
    "\n",
    "var_desc = df_trim.groupby('variety').apply(joinf)"
   ]
  },
  {
   "cell_type": "code",
   "execution_count": 14,
   "metadata": {},
   "outputs": [
    {
     "data": {
      "text/plain": [
       "\"Dried cranberry and currant flavors with raisin-plum cake undertones define this light-bodied wine that's mildly tannic, tart, simple and easy to like. Forest floor, leather, tilled soil, ripe berry and balsam are some of the aromas you'll find in this delicious red. The smooth, dense palate delivers blackberry jam, espresso, licorice and ground pepper flavors, blanketed with soft, silky tannins. Tobacco and graphite notes linger on the finish. Drink through 2020. Undergrowth, truffle, black-skinned berry and exotic spice aromas meld with balsamic notes. Rounded and chewy, the palate doles out fleshy black cherry, blackberry extract, cinnamon, licorice and chopped mint flavors, enveloped in velvety tannins. A hint of carob closes the finish. Drink through 2024. Ripe plum, forest floor, truffle and dark spice aromas lead the nose. The delicious, enveloping palate doles out fleshy blackberry, juicy black cherry, cinnamon and licorice flavors while an earthy hint of game lends character. Firm, velvety tannins provide polished support. Drink 2018â\\x80\\x932023. Spiced plum, vanilla, espresso and nutmeg aromas take center stage while the round, enveloping palate offers fleshy black cherry, raisin licorice and clove flavors. Pliant, polished tannins provide smooth support. Drink through 2020. Ripe plum, cranberry, pressed violet, tobacco and damp soil aromas lead the nose, along with a whiff of clove. The round, polished palate offers dried black cherry, prune, raspberry jam and licorice notes, alongside smooth tannins. It's already extremely approachable, so drink soon. Earthy aromas of forest floor, grilled mushroom, red fruit and leather slowly take shape in the glass. The chewy palate offers plum, licorice, Marasca cherry and clove flavors, framed by firm, fine-grained tannins that lend a polished texture and a tight finish. Drink through 2022. Vanilla, spiced plum and coconut aromas follow through to the round, concentrated palate, joining espresso, oak, fleshy raspberry and licorice notes. You'll also detect the warmth of alcohol and round supple tannins that provide gentle support. Drink through 2020. Red berry, rose petal and tilled earth aromas come together on this 100% Aglianico. The easygoing, enjoyable palate offers mature red berry and a hint of clove alongside mellow tannins. This wine's spiced plum, underbrush and French oak aromas waft out of the glass. The linear, ethereal palate offers prune, dried cherry and star anise flavors, set against austere, fine-grained tannins and bright acidity. It closes on an espresso note. This structured and delicious wine opens with aromas of tilled earth, blue flower and mature black fruit. The savory, juicy palate delivers notes of ripe plum, blackberry, Mediterranean herbs and mineral, all supported by assertive tannins. Drink 2015â\\x80\\x932024. This gripping, delicious wine seamlessly weaves together sensations of blue flower, exotic incense, ripe black cherry, mature plum, cracked pepper, mocha, clove and graphite. It's already delicious and well balanced, with bracing tannins and racy acidity, but give it time to soften and develop complexity. Drink 2019â\\x80\\x932029. This 100% Aglianico opens with aromas of blue flower, mature red berry and a whiff of coffee. The easy-drinking palate has mellow tannins that frame dense black cherry and a hint of black spice. This wine's underbrush, French oak, espresso, coconut and spiced plum aromas carry over to round, concentrated palate, along with licorice, clove, raisin and dried cherry notes. Fine-grained tannins provide polished support, but drink soon to capture the remaining fruit. Aromas of blue flower, rich black fruit, cooking spices, leather and thyme waft out of the glass of this soulful young Taurasi. The palate offers a juicy core of black cherry accented by notes of black pepper, nutmeg, eucalyptus, pipe tobacco and mineral, with firm acidity and velvety tannins. It's already delicious, but hold for additional complexity. Drink 2019â\\x80\\x932029. Baked plum, French oak and menthol aromas meld with earthy whiffs of leather and undergrowth in this wine. The firm, linear palate offers dried black cherry, prune, licorice and espresso flavors, framed by taut, fine-grained tannins. Drink soon to enjoy the remaining fruit richness. Violets, leather, vanilla, subtle oak and black berry sensations all meld together in the glass. The rich, concentrated palate delivers ripe black cherry and blueberry extract accented by mocha, cinnamon, clove, white pepper and mineral. It's soft and already extremely accessible, with velvety tannins, but will age well for the next five years or so. Drink now through 2019. This opens with tilled soil, dried black cherry and licorice aromas while the accessible, savory palate delivers blackberry jam, clove and white pepper flavors. Polished tannins offer smooth support. Drink through 2020. Taurasi Radici is a compelling wine that opens with a multifaceted fragrance of freshly tilled earth, iris, leather, tar and mature black berries. The gripping palate delivers ripe black cherry and plum layered with white pepper, clove and mocha, alongside fresh acidity and polished tannins. It's already accessible but hold for even more complexity. Best 2018â\\x80\\x932028. This offers loads of freshly ground peppercorn, backed by touches of caper and black olive. The blackberry and plum fruits gives this wine a soft, yielding feel despite the tannins. The fruit is sourced from vineyards at various altitudes on Mt. Vulture. Blue flower, underbrush, tobacco leaf, leather and mature black fruit aromas lead the nose on the structured but polished Taurasi from Fratelli Urciuolo. The balanced palate doles out juicy black cherry, black plum, black pepper and thyme alongside fresh acidity and a solid tannic backbone. Give it time to develop additional complexity; drink after 2020. Aged in both barriques and large casks, this hearty Taurasi opens with aromas of toasted oak and ripe black fruit. The palate slowly opens up to reveal dense black cherry layered with chocolate, toast and Mediterranean spices, alongside drying tannins. Give this time to open up and fully develop. Drink after 2019. Ripe blackberry, black plum, cracked pepper, tilled soil and licorice all weave together in the glass of this bold and spicy Aglianico. It's still young, with nervous acidity and aggressive tannins, so give it time to fully develop. Drink after 2020. This opens with stalky underbrush, dark spice, red berry and pressed rose aromas. The subdued, evolved palate offers dried cherry, licorice and clove hints, alongside polished tannins. This opens with stalky underbrush, dark spice, red berry and pressed rose aromas. The subdued, evolved palate offers dried cherry, licorice and clove hints, alongside polished tannins. This elegant Aglianico boasts a lovely bouquet of blue flower, blackberry, spice and a hint of saddle leather. The savory palate delivers ripe black cherry and blackberry layered with notes of black pepper and cinnamon. Solid tannins and fresh acidity give it balance, while smoky mineral signals the close. Here's a robust wine that opens with aromas of blue flower, earth, black fruit and a whiff of new leather. The juicy palate delivers ripe black cherry, mature raspberry, black pepper and balsamic herb, all supported by a firm, tannic backbone. Hold for additional complexity; best from 2016â\\x80\\x932026. Underbrush, leather, dense black plum, black cherry, clove and black pepper all meld seamlessly together in the glass. This is still young, with aggressive tannins and nervous acidity that need time to tame, but going forward, it should develop layers of complexity. This will be even better after 2019. This earthy Taurasi opens with aromas of ripe black fruit, blue flower, wet soil and leather. The ripe, structured palate doles out fleshy black cherry accented by cracked black pepper and balsamic herbs. With bracing tannins, give this time to fully develop depth and complexity; drink after 2019. Oliver McCrum, Polaner. This opens with subdued ripe black-skinned fruit and underbrush aromas. The straightforward, accessible palate doles out prune, cinnamon and licorice flavors, with round, ripe tannins. Drink through 2019. Toast, espresso, mocha, plum and leather aromas lead the nose on this structured wine. The palate offers bracing tannins and succulent Morello cherry and cassis layered with notes of chocolate, licorice, mint and vanilla. Drink after 2018. This bold Aglianico opens with earthy sensations of tilled soil, leather, mature black plum and vanilla. The dense palate is loaded with blueberry extract, fig and ripe blackberry flavors that are layered with mocha, chocolate and vanilla. Drink now through 2022. This structured, polished wine opens with aromas of red currants, scorched soil, black fruit and allspice. The firm palate delivers blackberry, mocha and sage alongside nervous acidity and bracing yet velvety tannins. Drink after 2018. Made from 50-year old vines, this concentrated wine offers dense black currant and blackberry flavors that are layered with chocolate, black licorice, coffee, grilled red peppers, sage, oak and thyme sensations. The tannins are firm and drying; drink after 2018. Underbrush, ripe plum, tilled earth and dark spice aromas come together in this. The soft, enveloping palate offers juicy black cherry, blackberry extract and licorice flavors, framed by round, pliant tannins. Enjoy through 2019. Ripe black plum, sour cherry, blue flower, black pepper, clove and cinnamon all meld together in the glass. This is still a very young Aglianco, with bracing tannins, but it should unwind nicely over the next few years. Drink after 2018. Here's a powerfully built wine with mature black plum, underbrush, stewed prune, mint and thyme aromas that waft from the glass. The brawny palate doles out juicy black cherry, milk chocolate and cracked pepper flavors, with a solid tannic backbone. This opens with tobacco, ripe black plum and vanilla aromas. The dense palate offers prune, mocha and toasted oak flavors, with assertive tannins that leave an astringent finish. Drink through 2018. This opens with aromas of ripe black plum, tilled soil, blue flower, leather and game. The palate is still very tight but offers black cherry and bitter prune accented by notes of black pepper, clove, graphite and nutmeg. It's all supported by a backbone of assertive tannins. Drink after 2019. Here's a bold wine that opens with aromas of underbrush, tilled soil and black plum. The juicy palate delivers ripe blackberry and rich black cherry accented by cinnamon, black pepper, chocolate and licorice. This is a big wine with enveloping, velvety tannins. The only drawback here is the evident alcohol, but the fruit is delicious. This at its peak so drink soon. This bold Aglianico has mature black-fruit aromas, with whiffs of eucalyptus, spice and leather. The juicy palate delivers a concentrated, black cherry flavor that's accented by black pepper. It's well balanced, with fresh acidity and firm but tightly-knit tannins. A small portion of Merlot (15%) is blended into this Aglianico-based wine to achieve plush concentration and inviting aromas of forest berry, cookie dough, peppermint, Porcini mushroom, spice and loads of licorice. It's a very solid and tannic wine that would pair well with hearty meat or game dishes: Oak-aged for 12 months. Year after year, Feudi's Taurasi delivers amazing intensity and volcanic soil aromas that are so distinctive they immediately give its Campania roots away. This boasts bold cherry, with deep tones of sweet-smelling blue flower, licorice, pinecone, tobacco, campfire and charcoal. The wine is plush and velvety on the palate and those fantastic mineral notes emerge on the finale. Despite its seven years of age (two of which were spent in oak), this is a seemingly youthful wine with bright and lively fruity tones of berries, cherry soda or candy, red apple backed by a supporting cast of vanilla, cedar and roasted nuts. It offers chewy, firm tannins and good length on the finish. Earthy and leathery, with aromas and flavors of black olives and dried cherries. It's medium-bodied, with a chewy tannic structure that calls for rare beef at this stage of its development. This is a very attractive wine with loads of personality and a long list of aromatic characteristics: Porcino mushroom, cedar, spice, licorice and scented candle. It's a bit shy on the fruit though: Very modern and intense in the mouth with waxy flavors on the close. A very characteristic wine of southern Italy, the nose delivers cherry, berry, tobacco, root beer, balsamic, red earth and linseed oil aromas. In fact, there's a lingering perfume reminiscent of paints in an artist's studio. The wine is elegant in the mouth with crisp acidity and a long finish. This Aglianico imparts bright berry fruit, candied cherry, blueberry, licorice, white mushroom and a hearty dose of licorice. Dark, mysterious and dense, it has a solid structure and good length and would pair well with stewed rabbit or roasted lamb. Thanks to a thick, purple-hued appearance you know you're in for a ripe and concentrated wine with thick layers of sweet red fruit aromas. The fruit is in fact very forthcoming but is also rendered more complex by background notes of graphite and chestnut. It's a youthful wine with a bright future. Deep, ripe and rich red fruit flavors characterize a wine that offers generous aromas of sweet cherry, pipe tobacco, mint, licorice and lingering smoke tones over firm, mouth-drying tannins. Aglianico, aged in oak for 12 months. This is a raw and nervous Aglianico with firm tannins and finely etched mineral tones spread over red fruit nuances and toast. The nose offers blackberry, pomegranate and ash. It begs for a pairing with stewed game meat or crunchy roasted lamb. This vineyard-designate Taurasi Riserva is probably one of the biggest, boldest wines produced in Italy. It opens with an inky black color and intense aromas of black fruit, toast, spice, espresso bean and bitter black chocolate. The jackhammer tannins are steady and firm, and there's a long tail of prune and black fruit on the finish. Serpico is a bold, larger-than-life wine, with beautiful aromatic intensity and notes of black fruit, espresso and crushed granite. Some 18 months of oak aging adds elements of dark spice and smoke; and the wine shows firm tannins and a long, polished mouthfeel. It's very elegant and should withstand many more years of cellar aging. This offers just about the biggest, boldest aroma and taste profile you will ever find in an Italian red. The correct food pairing is essential (rare prime rib or aged cheeses) because of the firm, dusty nature of the tannins. The finish shows crushed stone and powdered black licorice. This vintage of Bocca di Lupo shows balance and sophistication both in terms of its aromatic intensity and overall delivery of fresh fruit and spice. Flavors of dark plum, blackberry, black espresso and hickory smoke appear on the very rich and dense finish. Pago dei Fusi is an extremely mineral-driven wine that oozes with aromas of asphalt, wet river stone and crushed brimstone. There's are touches of candied fruit and black licorice, with notes of tobacco and campfire ash on the close. The mouthfeel is very nice: long, polished, firmly tannic, astringent and elegant. Give this wine five more years in the cellar. Wines from the extinct Vulture volcano in the deep south of Italy tend to show a linear, elegant side, with etched mineral notes of smoke and crushed granite. This wine offers all those characteristics, but does so with a modern twist, showing notes of spice and plush red fruit. Here's a full, rich Taurasi that opens with a slightly raw note of fresh cherry, exotic spice and milky chocolate. The mouthfeel is plush, long and velvety. Taurasi is one of the great red wines of Italy (sometimes dubbed â\\x80\\x9cthe Barolo of the Southâ\\x80\\x9d), and this expression delivers amazing intensity both in terms of its bouquet and mouthfeel. Its aromas include ripe, chewy blackberry, pipe tobacco, toasted espresso and crushed granite. The mouthfeel is plush, rich and firmly textured, with polished tannins and a smoky aftertaste. This grand wine, with its heavy consistency, tannic backbone and aromatic intensity, should pair well with aged cheeses or grilled red meat. The elegant bouquet opens with thick black fruit, crushed stone, asphalt and dried tobacco. The mouthfeel is equally huge and bold. This is a fantastic wine should pair well with meat or pasta. Its aromas include cassis, currant, crushed mineral, cola and dark asphalt. The mouthfeel is firm and structured without being overwhelming. A hearty, masculine effort, with thick aromas of blackberry, espresso, black granite and pipe tobacco. It has a firm tannic backbone, with a slightly chewy quality to the fruit flavors. This is a ripe, chewy wine, with jammy aromas of blackberry pie and cherry preserve. It shows a dark, inky structure, with loads of moist pipe tobacco and crÃ¨me de cassis on the thick, syrupy finish. DUBL is probably the first metodo classico sparkling wine available in the U.S. that is made in Campania. That's just one reason to find this wine so exciting. Other reasons include its clean bouquet of peach, sweet berry, white cherry and almond paste. Aromas of blue flower, mature black fruit, underbrush and subtle oak lead the nose of this Taurasi. The palate offers solid tannins and flavors of mature plum, stewed prune and plum cake, accented by a hint of allspice. This solid Aglianico opens with aromas of leather, underbrush, game and ripe plum. The structured palate delivers ripe blackberry accented by notes of licorice, sage and eucalyptus. There's a subtle warmth of alcohol and firm tannins. Best after 2016. Blue flower, tilled soil, leather, blackberry, licorice and black pepper sensations all come together in this vibrant, straightforward Aglianico. The dense, juicy palate is framed by tightly woven, brooding tannins and a vein of mineral. This opens with fruity aromas of plum and black berry, alongside whiffs of tilled earth and spice. It's still a bit closed but the palate reveals black cherry, raisin and clove supported by a tannic backbone. Drink 2015â\\x80\\x932021. This big, earthy wine has aromas of ripe black plum, tilled soil, leather and coffee. The palate shows blackberry, prune marinated in sprits and black pepper alongside tightly woven and assertive tannins. Here's a powerfully built Aglianico that offers sensations of extremely ripe black cherry, blackberry, chocolate, toast and subtle oak. The dense palate is supported by a solid tannic backbone. This hearty Aglianico opens with earthy aromas of tilled soil, mature black fruit and a whiff of leather. The palate delivers black cherry, mint and Mediterranean herbs supported by a firmly tannic backbone. This concentrated wine opens with aromas of ripe black fruit, smoke and subtle oak. The densely packed palate delivers notes of black cherry, mineral and medicinal herbs. It's still young, with bracing tannins that result in a mouth-drying finish. Drink after 2018. Funky aromas of barnyard, animal and overripe black fruit lead the nose of this robust Taurasi. The palate offers dense black cherry, spearmint, bitter prune, toasted oak, espresso and chocolate alongside firm, drying tannins. Here's a savory wine that opens with aromas of black berry, earth, leather and spice. The brooding palate offers mature blackberry, black cherry, black licorice and cracked pepper alongside big, chewy tannins. Aromas of underbrush, leather, black fruit, mocha and subtle oak lead the nose of this young Taurasi. The palate is still young and tightly woven, but offers black cherry, prune and black pepper alongside bracing tannins. Drink after 2018. This Taurasi opens with earthy aromas of leather, mature black fruit and a whiff of barnyard. The palate offers bracing tannins and dense flavors of blackberry, black cherry and sugar plum that are layered with sugary-sweet vanilla, oak, toast and coffee. This Aglianico opens with aromas of blue flower, red berries, coffee and earth. The palate offers assertive tannins and dense black cherry and raspberry flavors that are accented by notes of black spice. Blue flower, tilled soil and mature black berry aromas pour from the glass of this young Aglianico. The warm, forward palate doles out ripe black cherry, black pepper, espresso, licorice and toast alongside velvety tannins. This easy-drinking Aglianico offers succulent black cherry, plum and raspberry flavors accented by notes of cinnamon and clove. It's round, fresh and friendly. Drink soon to capture the juicy fruit. This young, fresh Aglianico opens with aromas of ripe black fruit, forest floor and cooking spices. The linear palate offers ripe black cherry layered with notes of earth, licorice and cooking spice, all balanced by firm tannins. This Aglianico offers a mÃ©lange of aromas, including vanilla, toast, ripe plum, prune, tobacco and a whiff of leather. The palate opens with juicy black fruit accented by notes of vanilla, mint, tobacco and espresso, but excruciatingly aggressive tannins dominate the finish and give it an abrupt, drying finish. Give this time to unwind. This ripe Taurasi opens with aromas of nail varnish, overripe black fruit and hints of tar and tire rubber. The dense, extracted palate is loaded with mature black plum, stewed prunes marinated in spirits, chocolate and balsamic notes. It has bracing tannins but is shy on freshness. This dense and extracted Aglianico has toasted oak, chocolate, mocha, black cherry, espresso, vanilla and eucalyptus sensations. The palate is accompanied by teeth-coating, mouth-drying tannins. Aromas of underbrush, grilled mushroom, blue flower and menthol lead the nose. The linear palate offers dried plum, mature blackberry, espresso and licorice, while firm tannins provide support. It finishes on a note of graphite. Here's a young Aglianico that opens with aromas of blue flower, earth, plum and spice. The simple but savory palate delivers ripe blackberry, raspberry and black licorice alongside firm tannins. This young Aglianico opens with aromas of ripe black and red berries, oak, espresso, leather and vanilla. The concentrated palate offers red cherry, raspberry and licorice alongside drying wood tannins. This young Aglianico is still closed but the palate eventually reveals black plum and black cherry accented by notes of black pepper. It has a brooding character, with bracing tannins that leave a drying finish. Drink 2016â\\x80\\x932022. This vibrant wine shows the lighter side of Aglianico while offering great value. It doles out juicy wild cherry, white pepper and clove alongside bright acidity and smooth tannins. Pair it with barbecue or hearty pasta dishes. Here's a full, rich Taurasi that opens with a slightly raw note of fresh cherry, exotic spice and milky chocolate. The mouthfeel is plush, long and velvety. This jammy wine doles out overripe plum and mature dark-berry fruit, layered with a melted chocolate sensation. Warm and evolved, it has an almost sugary-sweet palate that's shy on freshness. Taurasi is one of the great red wines of Italy (sometimes dubbed â\\x80\\x9cthe Barolo of the Southâ\\x80\\x9d), and this expression delivers amazing intensity both in terms of its bouquet and mouthfeel. Its aromas include ripe, chewy blackberry, pipe tobacco, toasted espresso and crushed granite. The mouthfeel is plush, rich and firmly textured, with polished tannins and a smoky aftertaste. This internationally-styled Taurasi opens with aromas of oak extract, sawdust, coffee and whiffs of black fruit. The palate offers blackberry, sour cherry, bitter cocoa and espresso alongside excruciatingly astringent wood tannins that dry out the mouth. This wine opens with aromas of toast, black berries, espresso, balsamic herbs and black spices. The extracted palate offers up ripe black cherry, chocolate, coffee and licorice alongside bracing, drying tannins. This grand wine, with its heavy consistency, tannic backbone and aromatic intensity, should pair well with aged cheeses or grilled red meat. The elegant bouquet opens with thick black fruit, crushed stone, asphalt and dried tobacco. The mouthfeel is equally huge and bold. This Aglianico opens with aromas of new oak, vanilla, chocolate and overripe black fruit, all of which carry over to the one-dimensional palate. It seems tired, and the sugary sweetness, dense concentration and evident alcohol give the wine a lumbering character. This Aglianico opens with aromas of roasted coffee bean, toast and black fruit. The oak-driven palate offers espresso, black pepper and black cherry flavors, but it lacks fruit richness and ends on a note of drying wood tannins. This is a fantastic wine should pair well with meat or pasta. Its aromas include cassis, currant, crushed mineral, cola and dark asphalt. The mouthfeel is firm and structured without being overwhelming. This dense Aglianico opens with aromas that recall resin, nail polish remover, stewed plum and chocolate. The meaty palate offers overripe black cherry and prune alongside aggressive tannins but it's evolved and shy on freshness. It finishes abruptly, with an astringent, tannic close. This dense Taurasi opens with black fruit, toasted oak and chocolate aromas. The extracted palate shows a heavy oak influence and is framed by coffee, mocha and vanilla alongside evident alcohol and bitter, raw wood tannins. This oak-driven Aglianico opens with aromas of coffee, toasted wood, espresso and black fruit. The dense, extracted palate offers oaky vanilla and sugar-plum alongside drying and astringent wood tannins. This extracted, dense and one-dimensional Taurasi delivers mature black fruit, fennel, black pepper, licorice, toasted oak and coffee bean sensations alongside drying wood tannins. It finishes abruptly. This extracted wine opens with aromas of toasted wood, coffee, mushroom, chocolate and vanilla. The dense, one-dimensional palate offers thick, jammy black fruit and oak extract. Made with Aglianico, this simple rosÃ© opens with aromas of sour red berries, crushed strawberry and cake spices. The casual palate offers sweet Morello cherry and pink grapefruit accented by notes of clove and sugary vanilla. This warm, forward wine has sensations of nail polish remover, underbrush, resin, mature black plum and overripe black cherry. The evolved palate is framed by astringent tannins that dry out the mouth. Here's an informal sparkler made with the Aglianico grape. The simple, fresh palate offers crunchy cherry, strawberry and pink grapefruit alongside bright acidity and vigorous, aggressive bubbles. A hearty, masculine effort, with thick aromas of blackberry, espresso, black granite and pipe tobacco. It has a firm tannic backbone, with a slightly chewy quality to the fruit flavors. This wine opens with red berry, spice and spearmint aromas. The dense palate is surprisingly sweet, with sugary black plum alongside drying, rough, wood tannins. Acrid aromas of sweat along with oak extract and toasted coffee bean lead the nose. The thick, extracted palate delivers oak, raisins and sugary sweet sensations of blueberry syrup together with evident alcohol. This is a ripe, chewy wine, with jammy aromas of blackberry pie and cherry preserve. It shows a dark, inky structure, with loads of moist pipe tobacco and crÃ¨me de cassis on the thick, syrupy finish. Rotondo is a gorgeous wine that boasts intensity, integration and complexity. The long list of aromatic attributes includes black currant, candied fruit, bitter chocolate, soft vanilla and smokey campfire. Rock-solid tannins are characteristic of Aglianico so let this wine age five years or more in your cellar. A medium-bodied Aglianico, it's softly textured and light in red cherry fruit and plum flavor, with a hint of rose petals on the nose. Ready to enjoy now, the light imprint of this wine won't get in the way of food flavors, accenting something meaty or gamy that's not overly rich or overdone in sauce. Divinus is a superrich and concentrated Aglianico from Basilicata that needs a few more years of cellar aging in order to soften those firm tannins. Even at this young age, it shows impressive aromas of smoke, ash, black fruit, leather and spicy cigar tobacco. Here's an elegant and powerful wine from the deep south of Italy that cries out for a pairing with succulent steak or an aged cheese such as pecorino. Despite its blunt power and firm tannins, the wine delivers pretty complexity in the form of black currant, prune, slate and tobacco aromas. This offers loads of freshly ground peppercorn, backed by touches of caper and black olive. The blackberry and plum fruits gives this wine a soft, yielding feel despite the tannins. The fruit is sourced from vineyards at various altitudes on Mt. Vulture. As far as Aglianico del Vulture goes, Damaschito is a velvety, more approachable expression of this famously powerful and tannic wine from southern Italy. It delivers aromas of wet river stone, black fruit, cherry and dried currant. Aglianico del Vulture is the reigning king of red wines from Basilicata and this hearty expression shows territory-driven aromas of slate and charcoal backed by mature fruit, tobacco and spice. The mouth is greeted by intense flavors of raisin, figs and dried prunes. This well integrated Aglianico del Vulture opens with ripe notes of black fruit and dried currants backed by softer aromas of leather and crushed clove or cinnamon. It's a massively intense and dense wine with rock-solid tannins that need to be paired with succulent steak. Amador Foothill has two acres of Aglianico, an Italian clonal selection that the winery planted in 2003. There's a sweet liqueur quality to this wine, which otherwise offers intense, dusty plum and blackberry fruit notes. This vintage of Grifalco shows beautiful aromas of smoky spice backed by loads of black fruit and drying mineral. There's a sweet element to the bouquet that recalls vanilla seed or cinnamon. The tannins are supertight so pair this wine with a sweet, fatty food such as aged cheese. This wine is a bombast of sweet liqueur and vanilla-infused candy, dusty with a sour finish. This gorgeous wine from southern Italy shows the true potential of native grape Aglianico. It opens with an intense fragrance of black cherry, leather, truffle, underbrush and spice. The dense, velvety palate delivers blackberry, raspberry and white pepper with a hint of espresso. It's already delicious but hold for even more complexity. Drink through 2027. A meaty note of smoked bacon or bresaola opens the nose of this hearty Aglianico del Vulture. In the mouth, this wine offers bitterness, acidity and tannins in abundance, which suggests a pairing of succulent steak topped with melted blue cheese. Here's a smokey, mineral-driven Aglianico del Vulture with drying aromas of slate or granite backed by a thin layer of dried fruit and cassis. A spicy note of clove or black pepper appears on the tight, tannic close. Here's a simple, but bitingly sharp expression of Aglianico with direct aromas of black fruit and mineral backed by tight, thorny tannins. Thanks to its natural structure and alcohol, this wine has the ability to cut through the fattiest of foods. Here's a smoky, gritty expression of Aglianico with firm tannins, black fruit aromas and drying mineral accents. Pair this wine with aged pecorino or pungent Roquefort cheese. Here's a jammy, overtly ripe expression of Aglianico that ultimately proves to be an easier and more immediate expression of this naturally tannic grape variety. Aromas include candied fruit, blackberry preserves, raw cherry and raisin. This Taurasi, made from Southern Italy's noble Aglianico grape, unfolds with earthy aromas of tilled soil, black fruit and flint. The palate delivers a core of tight black cherry, tobacco, white pepper and smoke notes along with big velvety tannins. This bold wine doles out vivid aromas of black fruit, earth, tobacco and spice. The palate offers layers of blackberry, cherry, currants and black pepper along with balsamic and mineral notes. It should develop more complexity over the next few years. Drink through 2018. Gricos is a less formal expression of Aglianico with evident berry notes followed by mature blackberry and spice. The wine close with tight tannins and a bright spot of acidity that would work next to pasta with meat sauce and grated cheese. Here is a very likable Aglianico del Vulture with bright spice flavors, big concentration and black fruit. The wine is dark and impenetrable with thick tannins and chewy succulence. Teodosio is a youthful and playful Aglianico del Vulture (usually among Italy's most austere red wines) with raw and chewy aromas of red fruit, prune and black plum. Its super-intense and tannic feel in the mouth is accented by flavors of bitter chocolate and spice. This is a spicy and gritty expression of Aglianico with aromas of blackberry jam, mineral and Indian spice all backed by long-lasting succulence. You'll enjoy the wine's firm texture and bright fruit flavors. Earthy tones of farmyard, wet wool and dewy hay probably weren't by design. It's hard to get at the real fruit although glimmers of blueberry and black cherry do break through. The wine has tight, thick extraction. This organic wine from the scorching 2003 vintage is definitely past its prime with a brownish hue and tired aromas of resin and very ripe fruit. It's just short of cooked, but the aromas do recall jam and black fruit marmalade. The wine is thin and compact in texture with lingering notes of dark chestnut and spice. Nero Latino lacks harmony overall because of its rapid succession of unrelated aromas: Red apple is followed by mushroom, beets, strawberry, chocolate and smoke. It also has an extremely strong component of coffee rinds that appears on both the nose and in the mouth. It's not a wine for everyone. This thickly extracted Aglianico is dark, absolutely impenetrable and almost too much of a good thing. Black fruit aromas are backed by ash, toast and spice. The wine is so thick and dense its texture is closer to syrup or reduction sauce than it is to wine. This cheerful Aglianico delivers intense fruit flavors and gritty, thick tannins. It has an easy, no-fuss approach and would pair well with pasta and meat sauce or grilled pork chops. Made with grapes from 40-year-old vines, this vibrant Aglianico del Vulture is thick and dense with penetrating aromas of black slate, spice, peppercorn, smoked ham and stewed blackberry. The mouthfeel has a chewy, dense quality but ends with drying tannins. This is a distinctive wine from Puglia with deep layers of blackberry jam, ash, slate roof, allspice and ground ginger. It has firm tannins and thick density that could stand up to succulent cuts of beef. Marked by high acidity and thick tannins, this cherry-flavored red wine would benefit from being drier, which would make it more balanced. It's too raisiny sweet, which gives it a medicinal taste. Jumara is an oak-driven wine that puts a lot of emphasis on spice, toast and smoke. There's not much fresh fruit back there and the wine delivers gritty tannins and a thick, grainy texture. Earthy and leathery, with aromas and flavors of black olives and dried cherries. It's medium-bodied, with a chewy tannic structure that calls for rare beef at this stage of its development. This winery's style always has been to produce food-friendly wines, and this one certainly is. Sommeliers might want to check it out as an interesting alternative to Zinfandel. It's dry and high in acidity but very fruity, with a range of blackberry, currant, raisin, licorice and pepper flavors. Here's a vibrant, pink rosÃ© from the southern Italian region of Campania. It is made with Aglianico grapes that are usually reserved for austere, important red wines. This expression, however, is light and fresh with forest berry and cranberry aromas. A blockbuster wine: big, bold and opulent on every front, you'll be seduced and subdued by its concentrated and immediate aromas of black berry fruit, pencil lead, licorice, chocolate fudge and the pretty ashen nuances. It's a masculine and multi-layered wine with expertly extracted flavors. This is a hearty wine that will cellar for many more years. This is a spectacular Taurasi Riserva from a 170-member cooperative that stretches far into the realm of extreme robustness, succulence and persistency. The aromas are seamlessly integrated, to incorporate ripe red cherry, chocolate fudge, licorice and a finely chiseled mineral note. The wine is layered with beautifully aromatic nuances and rock solid tannins in the mouth. A small portion of Merlot (15%) is blended into this Aglianico-based wine to achieve plush concentration and inviting aromas of forest berry, cookie dough, peppermint, Porcini mushroom, spice and loads of licorice. It's a very solid and tannic wine that would pair well with hearty meat or game dishes: Oak-aged for 12 months. Year after year, Feudi's Taurasi delivers amazing intensity and volcanic soil aromas that are so distinctive they immediately give its Campania roots away. This boasts bold cherry, with deep tones of sweet-smelling blue flower, licorice, pinecone, tobacco, campfire and charcoal. The wine is plush and velvety on the palate and those fantastic mineral notes emerge on the finale. Despite its seven years of age (two of which were spent in oak), this is a seemingly youthful wine with bright and lively fruity tones of berries, cherry soda or candy, red apple backed by a supporting cast of vanilla, cedar and roasted nuts. It offers chewy, firm tannins and good length on the finish. This is a very attractive wine with loads of personality and a long list of aromatic characteristics: Porcino mushroom, cedar, spice, licorice and scented candle. It's a bit shy on the fruit though: Very modern and intense in the mouth with waxy flavors on the close. A very characteristic wine of southern Italy, the nose delivers cherry, berry, tobacco, root beer, balsamic, red earth and linseed oil aromas. In fact, there's a lingering perfume reminiscent of paints in an artist's studio. The wine is elegant in the mouth with crisp acidity and a long finish. This Aglianico imparts bright berry fruit, candied cherry, blueberry, licorice, white mushroom and a hearty dose of licorice. Dark, mysterious and dense, it has a solid structure and good length and would pair well with stewed rabbit or roasted lamb. Thanks to a thick, purple-hued appearance you know you're in for a ripe and concentrated wine with thick layers of sweet red fruit aromas. The fruit is in fact very forthcoming but is also rendered more complex by background notes of graphite and chestnut. It's a youthful wine with a bright future. Deep, ripe and rich red fruit flavors characterize a wine that offers generous aromas of sweet cherry, pipe tobacco, mint, licorice and lingering smoke tones over firm, mouth-drying tannins. Aglianico, aged in oak for 12 months. This is a raw and nervous Aglianico with firm tannins and finely etched mineral tones spread over red fruit nuances and toast. The nose offers blackberry, pomegranate and ash. It begs for a pairing with stewed game meat or crunchy roasted lamb. This dar, dusty Aglianico opens with enticing aromas of liquid smoke, pipe tobacco, ash, candied fruit, leather and exotic spice. It delivers bold, dark intensity and a long-lasting finish. It speaks highly of Basilicata, one of Italy's most fascinating and unexplored regions. La Firma, which translates to â\\x80\\x9cthe signature,â\\x80\\x9d is a powerful wine, with bold aromatic intensity and alcoholic heat to match. It's a brawny, masculine expression, with thick layers of spice, tobacco, prune and dried berry, capped by a sensation of fullness and sweet-tasting fruit. Its velvety, smooth mouthfeel helps balance the wine's overall austerity. Dark and opulent, this has a modern touch, with soft oak tones that support pretty notes of black cherry, dark chocolate, spice and tobacco. The mouthfeel is rich, toasted and delicious, with a long, dry finish. As its name implies, Don Generous doles out opulence and aromatic intensity, lingering long on the nose and palate. This is a smoky, masculine expression, with notes of lead pencil, slate, prune, cassis and spice. It delivers the essences of volcanic soil with dry and firm tannins at the back. Basilisco delivers a deeply volcanic expression of Aglianico, with aromas of dried fruit, crushed granite, lead pencil and exotic spice. Thanks to 18 months of oak aging, it also shows supple softness and a velvety texture that gives this usually austere wine an easy approach overall. This Taurasi Riserva shows the beautiful and austere side of Aglianico, with penetrating notes of dried fruit, wet river stone, cigar box and crushed clove. It delivers structure and enough persistence to pair with stewed lamb and potatoes, and it can also be cellared for 10 years or more. This Amador Aglianico tastes of intense black cherry and dusty coffee. It exhibits all the qualities of a mature wine, with firm, dry tannins and flavors of black olive and pepper, especially on the finish. Pair it with heavy, meaty dishes cooked with vegetables. Aglianico grapes make powerful and tightly structured red wines, but vintner Roberto Di Meo has tamed much of that massiveness and has produced an elegant, polished bottling instead. This shows a long aromatic evolution, with subtle tones of blackberry, prune, leather and spice that evolve with more time in the glass. Packaged in a massively heavy glass bottle, Vigna della Corona is an important expression of Aglianico that deftly sets a touch of oak-derived against black fruit and prune notes. Savory flavors of wild mushroom, tobacco and smoke give the wine a masculine, brawny personality. With all the qualities needed for long cellar timeâ\\x80\\x94structure, freshness and fruit integrityâ\\x80\\x94this already shows its considerable pedigree. It delivers tobacco, leather, black fruit and a touch of dried herb on the finish. Il Repertorio shows an authentic and slightly rustic personality, with flavors of candied fruit, prune, plum, lead pencil and cured meat. It delivers a polished, elegant finish. Bosco Faiano is a hearty, masculine wine, aged 18 months in large oak casks to deliver dark notes of dried fruit, black currant, cured meat, leather and spice. At first, this tastes bold and raw, but after a few minutes in the glass, it shows a nice evolution toward elegance. Here's a unique Taurasi that shows the elegance and brawn of the Aglianico grape without some of its massive bulk and intensity. In fact, this is a tempered expression, with a bright fruit tone and a point of apparent sweetness on the finish. This will hit your senses hard with dusty layers of crushed mineral, campfire ash, toasted nut and cured meat. The approach is bold and powerful. The wine rides smooth over the palate with thick tannins and determination. Linear and elegant, this bears dusty tones of granite and black fruit that accompany lingering background aromas of spice and tobacco. Dark and deeply extracted, the wine lasts long on the palate, expressing dark plum and cigar flavors along the way. Sourced from 50-year-old vines, Bosco del Falco shows inky concentration, with dusty mineral shadings of slate, crushed granite and earth. The fruits are prune and dried berry, and the wine features tight tannins and overall complexity. Drink now, or age for five more years. You can't go wrong with a beautifully bold and structured red wine like this. Meant for cold winter nights and hearty meat dishes, this elegant Taurasi opens with luscious dark fruit, prune, spice and tobacco notes. The wine's texture is fine and silky, with polished, dusty tannins. A beautiful expression of Aglianico made from grapes that were sourced from the estate's Serpara Vineyard, this is darkly concentrated and powerful. It shows great aging potential, with dark fruit tones, natural structure and freshness. What sets this Taurasi apart is the finesse and elegance it shows on the finish. This hearty effort reflects many of the mineral characteristics inherent to volcanic soils. A black fruit note is followed by touches of smoke, ash, tobacco, supported by polished tannins. This hearty Aglianico del Vulture show a note of soft spice and a velvety texture, followed by black fruit and dried berry aromas. The wine is aged for 18 months in French oak for extra spice and smoke highlights. Here's a pearl for sparkling wine lovers. This bubbly rosato is made from the hearty Aglianico grape, usually reserved for one of Italy's most austere and masculine red wines. Yet here the variety shows a delicate, soft side with notes of wild berry and creamy almond paste. This vineyard-designate Taurasi Riserva is probably one of the biggest, boldest wines produced in Italy. It opens with an inky black color and intense aromas of black fruit, toast, spice, espresso bean and bitter black chocolate. The jackhammer tannins are steady and firm, and there's a long tail of prune and black fruit on the finish. Definitely a standout in a crowd, Rosso di Costanza shows a broad, rustic personality, with bold tannins, a textured mouthfeel and intense aromas of ripe fruit and smoke. It's not for everyone, but if you like power and muscle, this is for you. From beautiful vineyards on the Vulture volcano in southern Italy, Divinus opens with savory aromas of leather and cured meat, followed by dried berry and prune. Polished tannins and tones of lead pencil  and smoke indicate the wine is aging nicely. An opulent red wine, this has dark aromas of bitter chocolate, prune, plum, blackberry, tobacco, spice and rum cake. It shows plump, round extraction in the mouth, which helps soften the variety's tannins. This shows elegant and linear traits of smoky mineral and dried berry, backed by savory layers of cured meat and leather. Having spent 18 months maturing in oak, this has a soft, rich approach on the palate. Serpico is a bold, larger-than-life wine, with beautiful aromatic intensity and notes of black fruit, espresso and crushed granite. Some 18 months of oak aging adds elements of dark spice and smoke; and the wine shows firm tannins and a long, polished mouthfeel. It's very elegant and should withstand many more years of cellar aging. Made from the native Aglianico, this rosÃ© sparkler is a sheer delight. It has a lovely fragrance of cherry and hints of nut and baked bread. The refreshing palate delivers additional cherry notes, pastry cream and a hint of walnut. Driven by deeply smoky and ashy aromas of campfire, slate and lead pencil, there's no doubting the volcanic origins of this elegant Taurasi. The wine is etched and fine, with a smooth tannins. This shows unique characteristics that give it an elegant but powerful identity. The wine is aged for two years in oak, lending it an extra note of spice and round tannins. Volcanic soils render perfumed notes of blue flower and herb, and extracted richness remains at the core of this opulent wine. This offers just about the biggest, boldest aroma and taste profile you will ever find in an Italian red. The correct food pairing is essential (rare prime rib or aged cheeses) because of the firm, dusty nature of the tannins. The finish shows crushed stone and powdered black licorice. This gorgeous rosato shows a bright pink color, offering fresh aromas of garden flower, citrus and stone fruit. It shows lively acidity, with a distant tannic touch that's barely noticeable on the palate. Ros'Aura is one of the most delightful rosatos to come from southern Italy. It's a concentrated bright pink color, with fresh aromas of wild berry and pink grapefruit. This is a hearty, meaty wine that opens with aromas of smoked bacon, mesquite and A1 Steak Sauce. It feels smooth, rich and ends with a touch of bitter cherry. This is a tight, meaty Aglianico that offers a broad range of aromas that spans from black pepper to green olive to mature black cherry. The wine's solid structure makes it a good match to lamb or stewed game meat. This is a generous and powerful expression of Aglianico, with angular edges, tight tannins and a lasting mineral impression. There's little fresh fruit here,  but prune and cassis are apparent. This vintage of Bocca di Lupo shows balance and sophistication both in terms of its aromatic intensity and overall delivery of fresh fruit and spice. Flavors of dark plum, blackberry, black espresso and hickory smoke appear on the very rich and dense finish. Pago dei Fusi is an extremely mineral-driven wine that oozes with aromas of asphalt, wet river stone and crushed brimstone. There's are touches of candied fruit and black licorice, with notes of tobacco and campfire ash on the close. The mouthfeel is very nice: long, polished, firmly tannic, astringent and elegant. Give this wine five more years in the cellar. Wines from the extinct Vulture volcano in the deep south of Italy tend to show a linear, elegant side, with etched mineral notes of smoke and crushed granite. This wine offers all those characteristics, but does so with a modern twist, showing notes of spice and plush red fruit. Here's a smokey, mineral-driven red wine from southern Italy that offers a solid, silky ride just until the end, when those jackhammer tannins hit. Pair this wine with a fatty or creamy meat dish to help balance the firmness of the structure. Taurasi is a wine that flaunts a determined and powerful personality, and Fatica Contadina is no exception, thanks to its deep layers of spice, dark fruit, tobacco and cigar that it delivers to the senses. On the palate, it is austere and tightly structured. This wine inspires a pairing with foods that have a sweet cheese or butter element. It is well shaped and opulent, with loads of crushed black pepper, dried fruit and  dusty mineral nuances. Don't underestimate this wine. An Aglianico from Irpinia, it opens with pristine notes of black fruit, tobacco and crushed granite. The aromas are measured in intensity, but the wine's natural tannic backbone gives it importance and staying power. Here's a full, rich Taurasi that opens with a slightly raw note of fresh cherry, exotic spice and milky chocolate. The mouthfeel is plush, long and velvety. Made with organically farmed Aglianico grapes, this single-vineyard expression spends nine months in oak to shape a dark, austere and smoky wine. It's not terribly complex or layered, but it does offer upfront blackberry and spice aromas over firm texture. This opens with a jammy fruit aroma, led primarily by blackberry preserves and prune. The tight tannins give the wine composure and solid firmness on the finish. Terre di Orazio offers a compact, subtle expression of Aglianico that seems to be holding back. The aromas are subtle, with just  the right intensity of fruit and spice. This is nicely balanced and easy in terms of its tannins and overall intensity, with enough structure to pair with game meat or succulent red meat. The bouquet is redolent of spice, black fruit and crushed granite. Taurasi is one of the great red wines of Italy (sometimes dubbed â\\x80\\x9cthe Barolo of the Southâ\\x80\\x9d), and this expression delivers amazing intensity both in terms of its bouquet and mouthfeel. Its aromas include ripe, chewy blackberry, pipe tobacco, toasted espresso and crushed granite. The mouthfeel is plush, rich and firmly textured, with polished tannins and a smoky aftertaste. This delivers excellent value, with dark fruit aromas, tight tannins and a lingering spice note. The wine is aged partly in oak and partly in stainless steel. It would make an excellent partner to barbecued meats. From the Zonin family's brand-new winery at Masseria Altemuraâ\\x80\\x94one of the most important wine investments made in Puglia in decadesâ\\x80\\x94comes this spicy, leathery expression of Aglianico. It delivers bold fruit and blackberry notes, with distant prune and tobacco accents. This grand wine, with its heavy consistency, tannic backbone and aromatic intensity, should pair well with aged cheeses or grilled red meat. The elegant bouquet opens with thick black fruit, crushed stone, asphalt and dried tobacco. The mouthfeel is equally huge and bold. Although those superfirm tannins do pop up on the end, this is a relatively smooth and fruit-forward expression of the austere Aglianico variety. Blackberry and maraschino cherry is surrounded by a drying aromatic embroidery of mineral and powdered spice. A meaty note of bresaola or smoked bacon opens the nose of this hearty Aglianico. The wine offers black concentration and rich aromas of sweet spice, blackberry jam, crushed pepper, milky chocolate and sour cherry. Packaged in a screwcap bottle, Rocca del Dragone is a sophisticated value wine with an easy approach. A sweet-tasting blackberry note is backed by firm tannins and toasted oak spice. Here's a bold, ripe and chewy expression of Aglianico, with loads of plump cherry and blackberry followed by notes of dark spice and moist pipe tobacco. The wine would pair with lamb chops or roast pork. This pretty Aglianico from the up-and-coming Irpinia subzone of southern Italy delivers tightly etched tannins that are backed by soft layers of black fruit and leather. It successfully highlights the grape's natural characteristics. This is a fantastic wine should pair well with meat or pasta. Its aromas include cassis, currant, crushed mineral, cola and dark asphalt. The mouthfeel is firm and structured without being overwhelming. Here's a food-friendly Aglianico that opens with pungent aromas of green herb, talc powder, crushed stone and dried fruit. It's a drying but not astringent wine that leaves a polished sensation on the finish. A stenciled â\\x80\\x9cAâ\\x80\\x9d on the bottle makes for some very handsome packaging. The wine inside the bottle is just as successful as its label, with savory aromas of cured meat and leather, backed by black fruit and Indian spice notes. Redolent of moist pipe tobacco and exotic spice, like cardamom and clove, this is a massive wine that hits all the senses in full force. Dark fruit and prune notes add a light impression of sweetness to the otherwise superchewy, thick mouthfeel. Although they are made by the same company, this offers slightly different characteristics than the Aglianico del Vulture produced by Feudi di San Gregorio. This is a balanced and linear wine, with wild berry and spice aromas that render a sensation of brightness. Rubrato is a midlevel Aglianico that offers an easy, approachable interpretation of one of Italy's most powerful grape varieties. This shows pretty accents of spice and dark fruit. From one of the best producers in the little-traveled region of Molise on Italy's Adriatic flank, this wine shows the far reaches of the Aglianico grape in southern Italy. This expression shows bright fruit tones of blackberry and cherry, backed by velvety tannins. From the Sannio area of Campania, this is a thin and easy expression of Aglianico that offers a very frank and upfront interpretation of the grape variety. Aromas include dark berry, tobacco and spice followed by firm tannins at the rear. Vultur captures the essence of volcanic  soil, expressing notes of wet earth, crushed stone, ash, tobacco and dried berry, plus dusty, firm tannins. Carefully aged in oak casks, this hearty Aglianico shows complexity and brawn, with bold notes of black fruit, spice and leather. Tightly firm tannins give it long staying power. This informal expression of Aglianico opens with zesty, slightly green aromas of curry leaf and dried herb, with subtle hints of wild berry and cassis. The finish is strongly reminiscent of crushed white peppercorn. Perfect for grilled or roasted meat dishes, this is a well-priced and approachable Aglianico-based wine, with soft tones of ripe fruit and tobacco. The finish is clean and tight, with medium intensity. Available at an attractively low price, this oak-aged Aglianico opens with dark, brooding tones of cassis, dark spice, resin, tar and black licorice. The mouthfeel is firm and tight, making this wine suitable for a fatty meat dish such as a juicy cheeseburger. Aged in large oak casks, this wine shows bold spice and dried berry aromas, with lingering accents of leather and pipe tobacco. The tight tannins give the wine structure and staying power. This inky-dark red wine made from the hearty Aglianico grape shows chewy, rich berry flavors and determined alcoholic heat. This is a powerful red wine, with loads of black fruit intensity and a bold, chewy finish. Hearty Aglianico is blended with a small percentage of Sangiovese to produce a tight and straightforward red wine, with sassy spice and dark fruit aromas. Pair this value wine with pizza or grilled sausage. Aglianico Isso delivers leather and spice, surrounded by soft contours of cherry and blackberry. The dusty tannins that characterize this grape variety appear on the finish. A hearty, masculine effort, with thick aromas of blackberry, espresso, black granite and pipe tobacco. It has a firm tannic backbone, with a slightly chewy quality to the fruit flavors. This bright Aglianico delivers a dark fruit aroma, with touches of rum cake and dusty mineral at the back. The brightness of the acidity will refresh your tastebuds. Spelled with a backward â\\x80\\x9cP,â\\x80\\x9d Pipoli delivers dark fruit nuances of blackberry and prune, with light touches of cherry soda and raspberry at the back. There's a subtle impression of sweetness that helps soften the grape's tight tannins. This Aglianico-based rosato opens with a dark raspberry color, followed by aromas of forest berry, chopped mint, candied fruit and pink grapefruit. Smooth and velvety on the finish. Jumara is a very oaky expression of Aglianico, with spicy background tones of cinnamon and chocolate, backed by roasted nut and cigar. There are dark fruit aromas here that will help this hearty wine evolve over the next 1â\\x80\\x932 years. Villa Matilde delivers well-made expressions of Aglianico year after year. This wine shows modern flair, with background tones of spice and bitter chocolate that are layered behind bold cherry and blackberry notes. You could easily imagine this wine paired with creamy foods like oven-roasted lasagna with crusty cheese. That's because this Aglianico has both the acidity and the structure to cut though such a dish, keeping the palate clean. Instantly recognizable for the eye-catching purple dot on its label, this offers a slightly austere expression of Aglianico that would pair with almost any grilled meat dish. The soft mouthfeel is characterized by notes of cherry, tobacco and spice. Bright and crisp, this Aglianico-based rosato shows the soft, feminine side of this hearty red grape. Notes of wild berry and raspberry are followed by touches of almond skin and pink grapefruit. It can't be easy to turn a hearty red grape like Aglianico into an informal, easy-drinking red. Despite the grape's famously unyielding tannins, Terra di Vulcano has an easy approach, with notes of bright berry, dried herb and a touch of green pepper at the back. This is a ripe, chewy wine, with jammy aromas of blackberry pie and cherry preserve. It shows a dark, inky structure, with loads of moist pipe tobacco and crÃ¨me de cassis on the thick, syrupy finish. This approachable Aglianico del Vulture is easy and bright, with a dark fruit aroma and a mineral note at the back. Pair this structured red wine with pork chops or grilled lamb. This winery's style always has been to produce food-friendly wines, and this one certainly is. Sommeliers might want to check it out as an interesting alternative to Zinfandel. It's dry and high in acidity but very fruity, with a range of blackberry, currant, raisin, licorice and pepper flavors. Here's a vibrant, pink rosÃ© from the southern Italian region of Campania. It is made with Aglianico grapes that are usually reserved for austere, important red wines. This expression, however, is light and fresh with forest berry and cranberry aromas. Marked by high acidity and thick tannins, this cherry-flavored red wine would benefit from being drier, which would make it more balanced. It's too raisiny sweet, which gives it a medicinal taste. Not everyone will love this Aglianico-based rosÃ© from volcanic soils in Basilicata, but most will find its sweet marzipan aromas quite attractive. In fact, rarely does a wine embody the essences of almond paste more faithfully: It tastes ripe and sweet and has a firm backbone. A Marc de Grazia selection, various American importers. This hot vintage Riserva offers dense aromas of black fruit and pomegranate but there's also a touch of the proverbial barnyard or Band-Aid that distracts from the big picture. The wine has raw, gritty tannins and thick extraction. Dark and impenetrable with bold oak nuances, sweet vanilla extract and layers of Indian spice, this is a rich and dense wine that should be consumed with succulent cuts of meat. The tannins are tight and firm and this wine will age for many years to come. This Aglianico from Irpinia is thin in appearance and offers awkward notes of apple cider, black mineral, cherry, blueberry and spice. The nose is a bit muddled but the wine drinks well thanks to its solid structure and polished tannins. The nose here is muddled with contrasting aromas of strawberry jam and apple juice. You'll find softer tones of vanilla bean, espresso and herbal notes but they remain in the background. In the mouth, the wine exhibits solid structure and dusty tannins. Earthy tones of farmyard, wet wool and dewy hay probably weren't by design. It's hard to get at the real fruit although glimmers of blueberry and black cherry do break through. The wine has tight, thick extraction. This organic wine from the scorching 2003 vintage is definitely past its prime with a brownish hue and tired aromas of resin and very ripe fruit. It's just short of cooked, but the aromas do recall jam and black fruit marmalade. The wine is thin and compact in texture with lingering notes of dark chestnut and spice. Nero Latino lacks harmony overall because of its rapid succession of unrelated aromas: Red apple is followed by mushroom, beets, strawberry, chocolate and smoke. It also has an extremely strong component of coffee rinds that appears on both the nose and in the mouth. It's not a wine for everyone. Murellaia is a modern and sweet-smelling wine with firm structure and intense aromas of sweetbread, candied fruit, vanilla, spice, black peppers and prunes. Try it with pork stuffed with stewed apricots. This is a modern, New World wine that boasts plush softness and a thick, velvety texture. Pair this wine with succulent beef, lamb or any meat that can stand up to its firm texture and solid tannins. Aromas include chocolate fudge, leather, allspice and clove. Grifalco offers a light and elegant style with loads of spice and black fruit flavors. The wine is easy and approachable overall with fresh fruit notes that chime in on the close. This is a very attractive wine with bursting cherry notes and vibrant layers of sweet spice and clove. You'll also get root beer, chopped herbs, tobacco and leather: the wine is thick and firm with oak-driven flavors. Riserva Cappellaccio is a pure expression of Aglianico that has embraced the scorching heat of the 2003 vintage to deliver warm tones of jammy fruit, tar, asphalt, resin and natural spice. The wine is broad and chewy in the mouth. Smokey, volcanic notes of slate, ash and charcoal are followed by blackberry, plum and prune. You'll also get resin, tar, asphalt and tobacco lavished over the wine's thick consistency and drying tannins. This is a pleasantly intense wine with resiny aromas of tar, tobacco and smoked cedar wood. It has a dense, impenetrable personality and there are slightly bitter tannins on the close. Radici is a landmark red wine for Italy, because it shows the high-quality wine-making potential of the south. A hearty and sophisticated expression of Aglianico, this opens with smoky aromas of crushed mineral, black peppercorn, ripe fruit and cola. It shows firm tannins and impressive length. Bocca di Lupo is a top-shelf red that offers enormous beauty and intensity in the form of ripe fruit, chocolate fudge, leather, tobacco and blackberry pie. The tannins are tight and firm, and the long finish is characterized by black cherry and toasted espresso bean. Native Aglianico grapes give this metodo classico sparkling wine its pretty pink color. Aromas recall wild berry, stone fruit and pink grapefruit. The quality of the perlage is steady, bright and tonic. There's a soapy, floral element to this wine that recalls lavender oil or rose water. Aromas of crushed mineral, spice and leather are all present. The mouthfeel is lean and compact, but it also shows polished tannins. This is a deep, masculine Aglianico that opens with bold, inky concentration and intense aromas of blackberry preserves, leather and spices. The tannins are rock solid, firm and dry. This shows delicate tones of blue flower, dried lavender, moist earth and tobacco leaf. There are even touches of honey and roasted chestnut in the background. The mouthfeel is dry, firm and dusty. This shows a bold, overdone bouquet of Indian spice, bitter chocolate, crushed clove and black pepper. The tannins are firm and astringent, and the wine leaves a huge impression on the palate: it's almost too much of a good thing. Thanks to its many years of bottle aging, this savory offering shows a sweet spice aroma, with candied raspberry and cinnamon overtones. The structure is firm and steady, but there is a polished, smooth quality to the tannins. This is a clean and polished Aglianico that shows dark berry and plum aromas followed by notes of tar, licorice and toasted nut. It has power and structure, all for a very low price. This opens with sweet aromas of nutmeg and cinnamon, with bright tones of cassis and white cherry in the background. The firm, fresh mouthfeel would pair well with grilled meat or sausage. Aged six months in stainless steel, here is a fruity and frivolous version of this otherwise austere and brooding southern Italian grape. Red berry fruit meets interesting minerals notes; the wine would pair wonderfully with pasta. Not entirely convincing up front, where raisin and cranberry aromas are a bit less than commited. Plum, raisin and cough syrup are the primary flavors, with even more raisin lurking on the finish. Extremely tannic; more of a traditional Aglianico. Here's a southern Italian red with Barolo-like austerity: elegant notes of small berry fruit are seamlessly folded within layers of slate roof, ash, graphite, licorice and fine expressions rendered by volcanic soils and 18 months of oak aging. It really comes alive in the mouth, where the wine delivers power, concentration and a very long-lasting finish. This is Mastroberardino's flagship red. This is among Campania's best reds. The aromatic intensity and persistency is stratospheric and the wine doles out generous notes of red cherry, charred volcanic tones and licorice. It's also a wine that evolves, limitlessly, in the glass, gaining intensity and purity the longer you wait. The tannins are solid and chewy and the duration of the length is excellent. A beautiful wine: sweet cherry and berry fruit nuances are woven within threads of vanilla, toast and ash. Despite the firm and penetrating mineral element, this wine is actually very plush, soft and round and it delivers long spicy notes on the finish. Blueberry, blackberry and cherry candy are backed by deep and penetrating notes of ash, pencil lead, mineral and licorice. The wine delivers vigor and personality and is a fine example of a Campania red with a solid structure and lasting finish. Fruity aromas of blackberry and red forest fruit take a back seat to penetrating oak-driven notes of cedar and vanilla, although the end result is not unbalanced. You'll also detect hints of asphalt, licorice and plum delivered over smoky, dusty tannins and long persistency. This expression of Aglianico offers delicate shadings of almond paste, sweet spice, candied fruit, pipe tobacco and cedar wood. The mouthfeel is simple and clean and ends with a burst of sour cherries. This thickly extracted Aglianico is dark, absolutely impenetrable and almost too much of a good thing. Black fruit aromas are backed by ash, toast and spice. The wine is so thick and dense its texture is closer to syrup or reduction sauce than it is to wine. Here's an Aglianico from Campania with bright cherry flavors, almond nut nuances and lasting shadings of mineral and earth. It offers bright fruit in the mouth and a crisp but firm close. Aromas of sweet spice and candied fruit characterize this lean but crisp Aglianico. The wine is not too dense or extracted and offers an easy, no-fuss approach to this hearty variety. Richly textured and velvety, this austere Aglianico del Vulture from Basilicata's (southern Italy) volcanic soils exhibits refined aromas of granite, forest fruit, apple, root beer and spice. The wine is well-extracted and lasts long thanks to its polished tannins. This cheerful Aglianico delivers intense fruit flavors and gritty, thick tannins. It has an easy, no-fuss approach and would pair well with pasta and meat sauce or grilled pork chops. Made with grapes from 40-year-old vines, this vibrant Aglianico del Vulture is thick and dense with penetrating aromas of black slate, spice, peppercorn, smoked ham and stewed blackberry. The mouthfeel has a chewy, dense quality but ends with drying tannins. This is a distinctive wine from Puglia with deep layers of blackberry jam, ash, slate roof, allspice and ground ginger. It has firm tannins and thick density that could stand up to succulent cuts of beef. Jumara is an oak-driven wine that puts a lot of emphasis on spice, toast and smoke. There's not much fresh fruit back there and the wine delivers gritty tannins and a thick, grainy texture. Lean and compact, this Aglianico del Taburno delivers fresh notes of green curry, leafy vegetable, sage and exotic spice. It has bright acidity, drying tannins and good length on the finish. Marked by high acidity and thick tannins, this cherry-flavored red wine would benefit from being drier, which would make it more balanced. It's too raisiny sweet, which gives it a medicinal taste. This winery's style always has been to produce food-friendly wines, and this one certainly is. Sommeliers might want to check it out as an interesting alternative to Zinfandel. It's dry and high in acidity but very fruity, with a range of blackberry, currant, raisin, licorice and pepper flavors. Here's a vibrant, pink rosÃ© from the southern Italian region of Campania. It is made with Aglianico grapes that are usually reserved for austere, important red wines. This expression, however, is light and fresh with forest berry and cranberry aromas. Here's a southern Italian red with Barolo-like austerity: elegant notes of small berry fruit are seamlessly folded within layers of slate roof, ash, graphite, licorice and fine expressions rendered by volcanic soils and 18 months of oak aging. It really comes alive in the mouth, where the wine delivers power, concentration and a very long-lasting finish. This is Mastroberardino's flagship red. This is among Campania's best reds. The aromatic intensity and persistency is stratospheric and the wine doles out generous notes of red cherry, charred volcanic tones and licorice. It's also a wine that evolves, limitlessly, in the glass, gaining intensity and purity the longer you wait. The tannins are solid and chewy and the duration of the length is excellent. A beautiful wine: sweet cherry and berry fruit nuances are woven within threads of vanilla, toast and ash. Despite the firm and penetrating mineral element, this wine is actually very plush, soft and round and it delivers long spicy notes on the finish. Blueberry, blackberry and cherry candy are backed by deep and penetrating notes of ash, pencil lead, mineral and licorice. The wine delivers vigor and personality and is a fine example of a Campania red with a solid structure and lasting finish. Fruity aromas of blackberry and red forest fruit take a back seat to penetrating oak-driven notes of cedar and vanilla, although the end result is not unbalanced. You'll also detect hints of asphalt, licorice and plum delivered over smoky, dusty tannins and long persistency. This is an intriguing and complex red with loads of minerality, black pepper, charred meat, earth and charcoal. But the fruit notes are in there, too: prunes and red, ripe cherry. The tannins are a bit nervous still and the wine should be cellared a few more years. Here's a wine that epitomizes the winemaking potential of Puglia, in southern Italy. This Aglianico, with a small percentage of Cabernet Sauvignon, is a vibrant ruby color and is bursting with ripe cherry, cigar box, black slate, resin and toast. It is a complex wine with a particularly succulent quality in the mouth that finishes with dusty tannins. Stylish but bold. The nose is bruising but lively, with pepper, plum and overall punch. In the mouth, black cherry and raspberry fruit is both snappy and rich. A wine with personality. And it's not fading. Full, floral and sophisiticated, with leather, earth, licorice and floral aromas. Very rich, tight and masculine, with big-time tannins pushing heavy plum, fudge and tobacco flavors. Nothing timid here. Aged eight months in barrique, this powerhouse Aglianico from Campania delivers a rush of fresh berry fruit, chewy ripe blackberry and raspberry, forest floor, mushroom, stone and charcoal-like nuances. The mineral notes appear on the palate rendering a beautifully dry, almost dusty, quality. Not imported. Aged six months in stainless steel, here is a fruity and frivolous version of this otherwise austere and brooding southern Italian grape. Red berry fruit meets interesting minerals notes; the wine would pair wonderfully with pasta. Not entirely convincing up front, where raisin and cranberry aromas are a bit less than commited. Plum, raisin and cough syrup are the primary flavors, with even more raisin lurking on the finish. Extremely tannic; more of a traditional Aglianico. Vital and tannic after a number of years, a testament to this grape's aging ability. The bouquet deals strawberry, raspberry, mint and sage. In the mouth, hard tannins frame plum and cherry fruit, which is backed by a racy, no-holds-barred finish. Nothing out of place; well structured. A blockbuster wine: big, bold and opulent on every front, you'll be seduced and subdued by its concentrated and immediate aromas of black berry fruit, pencil lead, licorice, chocolate fudge and the pretty ashen nuances. It's a masculine and multi-layered wine with expertly extracted flavors. This is a hearty wine that will cellar for many more years. This is a spectacular Taurasi Riserva from a 170-member cooperative that stretches far into the realm of extreme robustness, succulence and persistency. The aromas are seamlessly integrated, to incorporate ripe red cherry, chocolate fudge, licorice and a finely chiseled mineral note. The wine is layered with beautifully aromatic nuances and rock solid tannins in the mouth. A small portion of Merlot (15%) is blended into this Aglianico-based wine to achieve plush concentration and inviting aromas of forest berry, cookie dough, peppermint, Porcini mushroom, spice and loads of licorice. It's a very solid and tannic wine that would pair well with hearty meat or game dishes: Oak-aged for 12 months. Year after year, Feudi's Taurasi delivers amazing intensity and volcanic soil aromas that are so distinctive they immediately give its Campania roots away. This boasts bold cherry, with deep tones of sweet-smelling blue flower, licorice, pinecone, tobacco, campfire and charcoal. The wine is plush and velvety on the palate and those fantastic mineral notes emerge on the finale. Despite its seven years of age (two of which were spent in oak), this is a seemingly youthful wine with bright and lively fruity tones of berries, cherry soda or candy, red apple backed by a supporting cast of vanilla, cedar and roasted nuts. It offers chewy, firm tannins and good length on the finish. The flagship of the Feudi fleet, this powerful wine is 70% Aglianico and 30% Merlot, Shiraz and Piedirosso. The wine is complex from the start with cherry, plum, chocolate, black pepper and toasted oak. With standing, even more nuances appear. On the palate, it is rich and robustâ\\x80\\x94the tannins just need a little softening. The persistent finish replicates the initial aromatics. A true tour de force. Cellar Selection. This is a very attractive wine with loads of personality and a long list of aromatic characteristics: Porcino mushroom, cedar, spice, licorice and scented candle. It's a bit shy on the fruit though: Very modern and intense in the mouth with waxy flavors on the close. Dark at first, with raspberry emerging. Throughout it's snappy, with red fruit dominant. Finishes clean, tight and crisp, with solid tannins that don't go overboard. An everyday, drink-me style of Aglianico. A very characteristic wine of southern Italy, the nose delivers cherry, berry, tobacco, root beer, balsamic, red earth and linseed oil aromas. In fact, there's a lingering perfume reminiscent of paints in an artist's studio. The wine is elegant in the mouth with crisp acidity and a long finish. This Aglianico imparts bright berry fruit, candied cherry, blueberry, licorice, white mushroom and a hearty dose of licorice. Dark, mysterious and dense, it has a solid structure and good length and would pair well with stewed rabbit or roasted lamb. Deep, ripe and syrupy on the nose, with leather, brambly red fruit and licorice. Seemingly on the ripe side, but still juicy and fresh. The plum and berry fruit is mature, while proper aging has added a smoky edge along with carob, earth and coffee nuances. A spicy, sun-baked Aglianico that deals cherry, bourbon and piles of hard spice. The flavors of dried cherries and cinnamon are subtle and enticing, while the tight, hard finish offers raisin and other baked fruits. Not complex but good in a finite way. A young, chunky heavyweight is the only way to describe this black wine, which smells of fruitcake and herbs, and tastes of baked plums and chocolate. Rich and overflowing, and building to a tannic crescendo. One can see the mass appeal here. Seems a bit late to just be making the market, but Taurasi has staying power and this wine is far from over the hill. Spice, cinnamon and root beer mix with black fruit on the loud nose, while the palate spins mostly cherry and raspberry. Lively but raw, with outsized tannins that pound away without mercy. Bulky fruit, leather and some overt wood manifesting itself as dry cheese comprise the bouquet. Plum, red currant and cherry tomato make for a tight, snappy palate. Lots of zip, although tannic and tight.\""
      ]
     },
     "execution_count": 14,
     "metadata": {},
     "output_type": "execute_result"
    }
   ],
   "source": [
    "var_desc[0]"
   ]
  },
  {
   "cell_type": "code",
   "execution_count": 15,
   "metadata": {},
   "outputs": [
    {
     "data": {
      "text/plain": [
       "Index(['Aglianico', 'AlbariÃ±o', 'Barbera', 'Bordeaux-style Red Blend',\n",
       "       'Bordeaux-style White Blend', 'Cabernet Franc', 'Cabernet Sauvignon',\n",
       "       'CarmenÃ¨re', 'Champagne Blend', 'Chardonnay', 'Chenin Blanc',\n",
       "       'Corvina, Rondinella, Molinara', 'Gamay', 'Garganega', 'Garnacha',\n",
       "       'GewÃ¼rztraminer', 'Glera', 'Grenache', 'GrÃ¼ner Veltliner', 'Malbec',\n",
       "       'Melon', 'Meritage', 'Merlot', 'Moscato', 'Nebbiolo', 'Nero d'Avola',\n",
       "       'Petit Verdot', 'Petite Sirah', 'Pinot Blanc', 'Pinot Grigio',\n",
       "       'Pinot Gris', 'Pinot Noir', 'Port', 'Portuguese Red',\n",
       "       'Portuguese White', 'Prosecco', 'Red Blend', 'RhÃ´ne-style Red Blend',\n",
       "       'RhÃ´ne-style White Blend', 'Riesling', 'RosÃ©', 'Sangiovese',\n",
       "       'Sangiovese Grosso', 'Sauvignon', 'Sauvignon Blanc', 'Shiraz',\n",
       "       'Sparkling Blend', 'Syrah', 'Tempranillo', 'Tempranillo Blend',\n",
       "       'TorrontÃ©s', 'Verdejo', 'Vermentino', 'Viognier', 'White Blend',\n",
       "       'Zinfandel'],\n",
       "      dtype='object', name='variety')"
      ]
     },
     "execution_count": 15,
     "metadata": {},
     "output_type": "execute_result"
    }
   ],
   "source": [
    "var_desc.index"
   ]
  },
  {
   "cell_type": "markdown",
   "metadata": {},
   "source": [
    "# Try different summarizers\n",
    "\n",
    "Try the different built in summarizers to get a feel for how they differ.  Select one that seems to give best results."
   ]
  },
  {
   "cell_type": "code",
   "execution_count": 16,
   "metadata": {},
   "outputs": [
    {
     "name": "stdout",
     "output_type": "stream",
     "text": [
      "2018-05-24 18:33:20.085043\n",
      "The texture is soft and the finish very sweet.\n",
      "It's a light dessert wine with good acidity.\n",
      "0:00:22.350211\n"
     ]
    }
   ],
   "source": [
    "st = dt.datetime.now()\n",
    "print(st)\n",
    "summarizer = LexRankSummarizer()\n",
    "\n",
    "text = var_desc['Moscato']\n",
    "\n",
    "#parser = PlaintextParser.from_file(file, Tokenizer(“english”))\n",
    "parser = PlaintextParser(text, Tokenizer(\"english\"))\n",
    "\n",
    "summ_moscato = summarizer(parser.document,2)\n",
    "\n",
    "for sentence in summ_moscato:\n",
    "    print(sentence)\n",
    "    \n",
    "print(dt.datetime.now()-st)"
   ]
  },
  {
   "cell_type": "code",
   "execution_count": 79,
   "metadata": {},
   "outputs": [
    {
     "name": "stdout",
     "output_type": "stream",
     "text": [
      "2018-04-28 13:41:07.378695\n",
      "Packaged in a bright blue bottle, this fresh Moscato d'Asti delivers soft aromas of peach and white flower followed by a spicy touch of crisp acidity that you can really feel at the back of the tongue.\n",
      "The nose offers up just a bit of intrigue, with gardenia, musk and white rose scents, but the focus of this wine is really its core of baked apricot flavors that turn just a bit jammy on the finish.\n",
      "0:00:00.828988\n"
     ]
    }
   ],
   "source": [
    "st = dt.datetime.now()\n",
    "print(st)\n",
    "summarizer_1 = LuhnSummarizer()\n",
    "\n",
    "text = var_desc['Moscato']\n",
    "\n",
    "#parser = PlaintextParser.from_file(file, Tokenizer(“english”))\n",
    "parser = PlaintextParser(text, Tokenizer(\"english\"))\n",
    "\n",
    "summ_moscato = summarizer_1(parser.document,2)\n",
    "\n",
    "for sentence in summ_moscato:\n",
    "    print(sentence)\n",
    "    \n",
    "print(dt.datetime.now()-st)"
   ]
  },
  {
   "cell_type": "code",
   "execution_count": 80,
   "metadata": {},
   "outputs": [
    {
     "name": "stdout",
     "output_type": "stream",
     "text": [
      "2018-04-28 13:42:57.614464\n",
      "Fragrant, fresh and very typical of the Moscato aromatic variety, this is an approachable sweet wine in a round, squat bottle that would look pretty on any dinner table.\n",
      "Fragrant, fresh and very typical of the Moscato aromatic variety, this is an approachable sweet wine in a round, squat bottle that would look pretty on any dinner table.\n",
      "0:00:05.484926\n"
     ]
    }
   ],
   "source": [
    "st = dt.datetime.now()\n",
    "print(st)\n",
    "summarizer_2 = LsaSummarizer()\n",
    "\n",
    "text = var_desc['Moscato']\n",
    "\n",
    "#parser = PlaintextParser.from_file(file, Tokenizer(“english”))\n",
    "parser = PlaintextParser(text, Tokenizer(\"english\"))\n",
    "\n",
    "summ_moscato = summarizer_2(parser.document,2)\n",
    "\n",
    "for sentence in summ_moscato:\n",
    "    print(sentence)\n",
    "    \n",
    "print(dt.datetime.now()-st)"
   ]
  },
  {
   "cell_type": "code",
   "execution_count": 81,
   "metadata": {},
   "outputs": [
    {
     "name": "stdout",
     "output_type": "stream",
     "text": [
      "2018-04-28 13:44:05.290300\n",
      "Moscato d'Asti makes a light and fragrant dessert wine with floral aromas back by freshly cut grass and soapy tones of lavender and scented candle.\n",
      "Moscato d'Asti makes a light and fragrant dessert wine with floral aromas back by freshly cut grass and soapy tones of lavender and scented candle.\n",
      "0:00:48.717939\n"
     ]
    }
   ],
   "source": [
    "st = dt.datetime.now()\n",
    "print(st)\n",
    "summarizer_3 = TextRankSummarizer()\n",
    "\n",
    "text = var_desc['Moscato']\n",
    "\n",
    "#parser = PlaintextParser.from_file(file, Tokenizer(“english”))\n",
    "parser = PlaintextParser(text, Tokenizer(\"english\"))\n",
    "\n",
    "summ_moscato = summarizer_3(parser.document,2)\n",
    "\n",
    "for sentence in summ_moscato:\n",
    "    print(sentence)\n",
    "    \n",
    "print(dt.datetime.now()-st)"
   ]
  },
  {
   "cell_type": "markdown",
   "metadata": {},
   "source": [
    "# Try different varieties\n",
    "\n",
    "Run this loop to get a summary for all the varieties in the dataset.   \n",
    "___Beware this will take a really long time to run!!!___"
   ]
  },
  {
   "cell_type": "code",
   "execution_count": null,
   "metadata": {
    "collapsed": true
   },
   "outputs": [],
   "source": [
    "summ = []\n",
    "for var in var_desc.index:\n",
    "    text = var_desc[var]\n",
    "    parser = PlaintextParser(text,Tokenizer(\"english\"))\n",
    "    summ.append(summarizer(parser.document,2))"
   ]
  }
 ],
 "metadata": {
  "kernelspec": {
   "display_name": "Python 3",
   "language": "python",
   "name": "python3"
  },
  "language_info": {
   "codemirror_mode": {
    "name": "ipython",
    "version": 3
   },
   "file_extension": ".py",
   "mimetype": "text/x-python",
   "name": "python",
   "nbconvert_exporter": "python",
   "pygments_lexer": "ipython3",
   "version": "3.6.1"
  }
 },
 "nbformat": 4,
 "nbformat_minor": 2
}
