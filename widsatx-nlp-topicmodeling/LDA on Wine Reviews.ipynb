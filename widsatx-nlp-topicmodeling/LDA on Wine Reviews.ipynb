{
 "cells": [
  {
   "cell_type": "code",
   "execution_count": 4,
   "metadata": {},
   "outputs": [],
   "source": [
    "import numpy as np\n",
    "import pandas as pd"
   ]
  },
  {
   "cell_type": "code",
   "execution_count": 5,
   "metadata": {},
   "outputs": [],
   "source": [
    "df = pd.read_csv('wine-reviews/winemag-data_first150k.csv')\n",
    "# df"
   ]
  },
  {
   "cell_type": "code",
   "execution_count": 27,
   "metadata": {},
   "outputs": [],
   "source": [
    "# df['description']"
   ]
  },
  {
   "cell_type": "code",
   "execution_count": 8,
   "metadata": {},
   "outputs": [],
   "source": [
    "from nltk.corpus import stopwords \n",
    "from nltk.stem.wordnet import WordNetLemmatizer\n",
    "import nltk\n",
    "# nltk.download('wordnet')\n",
    "  \n",
    "import string\n",
    "stop = set(stopwords.words('english'))\n",
    "exclude = set(string.punctuation) \n",
    "lemma = WordNetLemmatizer()\n",
    "def clean(doc):\n",
    "    stop_free = \" \".join([i for i in doc.lower().split() if i not in stop])\n",
    "    punc_free = ''.join(ch for ch in stop_free if ch not in exclude)\n",
    "    normalized = \" \".join(lemma.lemmatize(word) for word in punc_free.split())\n",
    "    return normalized"
   ]
  },
  {
   "cell_type": "code",
   "execution_count": 9,
   "metadata": {},
   "outputs": [],
   "source": [
    "doc_clean = [clean(doc).split() for doc in df['description']]   "
   ]
  },
  {
   "cell_type": "code",
   "execution_count": 10,
   "metadata": {},
   "outputs": [],
   "source": [
    "df['description'] = doc_clean\n",
    "# df"
   ]
  },
  {
   "cell_type": "code",
   "execution_count": 11,
   "metadata": {},
   "outputs": [],
   "source": [
    "# Importing Gensim\n",
    "import gensim\n",
    "from gensim import corpora\n",
    "\n",
    "# Creating the term dictionary of our corpus, where every unique term is assigned an index.\n",
    "dictionary = corpora.Dictionary(df['description'])\n",
    "\n",
    "# Converting list of documents (corpus) into Document Term Matrix using dictionary prepared above.\n",
    "doc_term_matrix = [dictionary.doc2bow(doc) for doc in df['description']]"
   ]
  },
  {
   "cell_type": "code",
   "execution_count": 33,
   "metadata": {},
   "outputs": [],
   "source": [
    "# Creating the object for LDA model using gensim library\n",
    "LDA = gensim.models.ldamodel.LdaModel\n",
    "\n",
    "# Running and Training LDA model on the document term matrix.\n",
    "ldamodel = LDA(doc_term_matrix, num_topics=3, id2word = dictionary, passes=5)"
   ]
  },
  {
   "cell_type": "code",
   "execution_count": 34,
   "metadata": {},
   "outputs": [
    {
     "name": "stdout",
     "output_type": "stream",
     "text": [
      "[(0, '0.022*\"flavor\" + 0.021*\"finish\" + 0.019*\"cherry\"'), (1, '0.035*\"wine\" + 0.023*\"fruit\" + 0.021*\"flavor\"'), (2, '0.026*\"flavor\" + 0.024*\"wine\" + 0.017*\"finish\"')]\n"
     ]
    }
   ],
   "source": [
    "print(ldamodel.print_topics(num_topics=3, num_words=3))"
   ]
  },
  {
   "cell_type": "code",
   "execution_count": 16,
   "metadata": {},
   "outputs": [
    {
     "name": "stdout",
     "output_type": "stream",
     "text": [
      "[(0, '0.480*\"wine\" + 0.388*\"flavor\" + 0.332*\"fruit\" + 0.190*\"finish\" + 0.173*\"cherry\" + 0.164*\"aroma\" + 0.161*\"tannin\" + 0.145*\"acidity\" + 0.126*\"palate\" + 0.126*\"ripe\"'), (1, '-0.683*\"wine\" + 0.421*\"flavor\" + 0.290*\"finish\" + -0.197*\"fruit\" + 0.197*\"palate\" + 0.185*\"aroma\" + 0.172*\"cherry\" + 0.097*\"note\" + 0.088*\"nose\" + 0.082*\"berry\"'), (2, '0.722*\"fruit\" + -0.411*\"flavor\" + -0.349*\"wine\" + 0.146*\"black\" + 0.125*\"tannin\" + -0.123*\"dry\" + 0.108*\"palate\" + 0.107*\"aroma\" + 0.093*\"note\" + 0.079*\"finish\"'), (3, '0.417*\"cherry\" + 0.343*\"tannin\" + 0.293*\"black\" + -0.200*\"apple\" + 0.194*\"blackberry\" + -0.190*\"finish\" + -0.188*\"fruit\" + -0.162*\"citrus\" + -0.153*\"acidity\" + -0.143*\"aroma\"'), (4, '0.406*\"flavor\" + 0.389*\"fruit\" + -0.368*\"aroma\" + -0.300*\"wine\" + -0.275*\"palate\" + -0.235*\"finish\" + -0.193*\"note\" + 0.173*\"acidity\" + -0.153*\"berry\" + 0.133*\"ripe\"'), (5, '-0.466*\"acidity\" + 0.394*\"flavor\" + -0.295*\"cherry\" + -0.239*\"note\" + 0.238*\"aroma\" + -0.214*\"drink\" + -0.163*\"crisp\" + -0.158*\"fresh\" + 0.156*\"wine\" + -0.143*\"dry\"'), (6, '-0.477*\"cherry\" + 0.357*\"finish\" + 0.279*\"tannin\" + -0.254*\"red\" + 0.229*\"ripe\" + 0.196*\"blackberry\" + 0.194*\"note\" + -0.186*\"fruit\" + 0.174*\"drink\" + 0.157*\"rich\"'), (7, '-0.446*\"acidity\" + -0.349*\"tannin\" + 0.293*\"finish\" + -0.275*\"aroma\" + -0.261*\"berry\" + 0.237*\"note\" + 0.212*\"cherry\" + 0.175*\"oak\" + -0.175*\"ripe\" + 0.162*\"fruit\"'), (8, '0.383*\"ripe\" + -0.345*\"finish\" + 0.338*\"sweet\" + 0.318*\"spice\" + -0.247*\"dry\" + 0.235*\"rich\" + -0.214*\"tannin\" + 0.213*\"aroma\" + 0.172*\"oak\" + -0.162*\"red\"'), (9, '0.388*\"black\" + -0.337*\"sweet\" + -0.321*\"finish\" + -0.228*\"ripe\" + -0.198*\"soft\" + -0.197*\"berry\" + 0.195*\"dry\" + 0.172*\"cabernet\" + 0.162*\"white\" + -0.154*\"red\"')]\n"
     ]
    }
   ],
   "source": [
    "from gensim.test.utils import common_corpus, get_tmpfile\n",
    "\n",
    "LSA = gensim.models.LsiModel\n",
    "\n",
    "lsa = LSA(doc_term_matrix, num_topics=10, id2word=dictionary)  # train model\n",
    "\n",
    "print(lsa.print_topics(num_topics=10, num_words=10))"
   ]
  },
  {
   "cell_type": "code",
   "execution_count": 18,
   "metadata": {},
   "outputs": [
    {
     "data": {
      "text/html": [
       "<div>\n",
       "<style scoped>\n",
       "    .dataframe tbody tr th:only-of-type {\n",
       "        vertical-align: middle;\n",
       "    }\n",
       "\n",
       "    .dataframe tbody tr th {\n",
       "        vertical-align: top;\n",
       "    }\n",
       "\n",
       "    .dataframe thead th {\n",
       "        text-align: right;\n",
       "    }\n",
       "</style>\n",
       "<table border=\"1\" class=\"dataframe\">\n",
       "  <thead>\n",
       "    <tr style=\"text-align: right;\">\n",
       "      <th></th>\n",
       "      <th>0</th>\n",
       "      <th>1</th>\n",
       "      <th>2</th>\n",
       "      <th>3</th>\n",
       "      <th>4</th>\n",
       "      <th>5</th>\n",
       "      <th>6</th>\n",
       "      <th>7</th>\n",
       "      <th>8</th>\n",
       "      <th>9</th>\n",
       "    </tr>\n",
       "  </thead>\n",
       "  <tbody>\n",
       "    <tr>\n",
       "      <th>0</th>\n",
       "      <td>0.480*\"wine\"</td>\n",
       "      <td>0.388*\"flavor\"</td>\n",
       "      <td>0.332*\"fruit\"</td>\n",
       "      <td>0.190*\"finish\"</td>\n",
       "      <td>0.173*\"cherry\"</td>\n",
       "      <td>0.164*\"aroma\"</td>\n",
       "      <td>0.161*\"tannin\"</td>\n",
       "      <td>0.145*\"acidity\"</td>\n",
       "      <td>0.126*\"palate\"</td>\n",
       "      <td>0.126*\"ripe\"</td>\n",
       "    </tr>\n",
       "    <tr>\n",
       "      <th>1</th>\n",
       "      <td>-0.683*\"wine\"</td>\n",
       "      <td>0.421*\"flavor\"</td>\n",
       "      <td>0.290*\"finish\"</td>\n",
       "      <td>-0.197*\"fruit\"</td>\n",
       "      <td>0.197*\"palate\"</td>\n",
       "      <td>0.185*\"aroma\"</td>\n",
       "      <td>0.172*\"cherry\"</td>\n",
       "      <td>0.097*\"note\"</td>\n",
       "      <td>0.088*\"nose\"</td>\n",
       "      <td>0.082*\"berry\"</td>\n",
       "    </tr>\n",
       "    <tr>\n",
       "      <th>2</th>\n",
       "      <td>0.722*\"fruit\"</td>\n",
       "      <td>-0.411*\"flavor\"</td>\n",
       "      <td>-0.349*\"wine\"</td>\n",
       "      <td>0.146*\"black\"</td>\n",
       "      <td>0.125*\"tannin\"</td>\n",
       "      <td>-0.123*\"dry\"</td>\n",
       "      <td>0.108*\"palate\"</td>\n",
       "      <td>0.107*\"aroma\"</td>\n",
       "      <td>0.093*\"note\"</td>\n",
       "      <td>0.079*\"finish\"</td>\n",
       "    </tr>\n",
       "    <tr>\n",
       "      <th>3</th>\n",
       "      <td>0.417*\"cherry\"</td>\n",
       "      <td>0.343*\"tannin\"</td>\n",
       "      <td>0.293*\"black\"</td>\n",
       "      <td>-0.200*\"apple\"</td>\n",
       "      <td>0.194*\"blackberry\"</td>\n",
       "      <td>-0.190*\"finish\"</td>\n",
       "      <td>-0.188*\"fruit\"</td>\n",
       "      <td>-0.162*\"citrus\"</td>\n",
       "      <td>-0.153*\"acidity\"</td>\n",
       "      <td>-0.143*\"aroma\"</td>\n",
       "    </tr>\n",
       "    <tr>\n",
       "      <th>4</th>\n",
       "      <td>0.406*\"flavor\"</td>\n",
       "      <td>0.389*\"fruit\"</td>\n",
       "      <td>-0.368*\"aroma\"</td>\n",
       "      <td>-0.300*\"wine\"</td>\n",
       "      <td>-0.275*\"palate\"</td>\n",
       "      <td>-0.235*\"finish\"</td>\n",
       "      <td>-0.193*\"note\"</td>\n",
       "      <td>0.173*\"acidity\"</td>\n",
       "      <td>-0.153*\"berry\"</td>\n",
       "      <td>0.133*\"ripe\"</td>\n",
       "    </tr>\n",
       "    <tr>\n",
       "      <th>5</th>\n",
       "      <td>-0.466*\"acidity\"</td>\n",
       "      <td>0.394*\"flavor\"</td>\n",
       "      <td>-0.295*\"cherry\"</td>\n",
       "      <td>-0.239*\"note\"</td>\n",
       "      <td>0.238*\"aroma\"</td>\n",
       "      <td>-0.214*\"drink\"</td>\n",
       "      <td>-0.163*\"crisp\"</td>\n",
       "      <td>-0.158*\"fresh\"</td>\n",
       "      <td>0.156*\"wine\"</td>\n",
       "      <td>-0.143*\"dry\"</td>\n",
       "    </tr>\n",
       "    <tr>\n",
       "      <th>6</th>\n",
       "      <td>-0.477*\"cherry\"</td>\n",
       "      <td>0.357*\"finish\"</td>\n",
       "      <td>0.279*\"tannin\"</td>\n",
       "      <td>-0.254*\"red\"</td>\n",
       "      <td>0.229*\"ripe\"</td>\n",
       "      <td>0.196*\"blackberry\"</td>\n",
       "      <td>0.194*\"note\"</td>\n",
       "      <td>-0.186*\"fruit\"</td>\n",
       "      <td>0.174*\"drink\"</td>\n",
       "      <td>0.157*\"rich\"</td>\n",
       "    </tr>\n",
       "    <tr>\n",
       "      <th>7</th>\n",
       "      <td>-0.446*\"acidity\"</td>\n",
       "      <td>-0.349*\"tannin\"</td>\n",
       "      <td>0.293*\"finish\"</td>\n",
       "      <td>-0.275*\"aroma\"</td>\n",
       "      <td>-0.261*\"berry\"</td>\n",
       "      <td>0.237*\"note\"</td>\n",
       "      <td>0.212*\"cherry\"</td>\n",
       "      <td>0.175*\"oak\"</td>\n",
       "      <td>-0.175*\"ripe\"</td>\n",
       "      <td>0.162*\"fruit\"</td>\n",
       "    </tr>\n",
       "    <tr>\n",
       "      <th>8</th>\n",
       "      <td>0.383*\"ripe\"</td>\n",
       "      <td>-0.345*\"finish\"</td>\n",
       "      <td>0.338*\"sweet\"</td>\n",
       "      <td>0.318*\"spice\"</td>\n",
       "      <td>-0.247*\"dry\"</td>\n",
       "      <td>0.235*\"rich\"</td>\n",
       "      <td>-0.214*\"tannin\"</td>\n",
       "      <td>0.213*\"aroma\"</td>\n",
       "      <td>0.172*\"oak\"</td>\n",
       "      <td>-0.162*\"red\"</td>\n",
       "    </tr>\n",
       "    <tr>\n",
       "      <th>9</th>\n",
       "      <td>0.388*\"black\"</td>\n",
       "      <td>-0.337*\"sweet\"</td>\n",
       "      <td>-0.321*\"finish\"</td>\n",
       "      <td>-0.228*\"ripe\"</td>\n",
       "      <td>-0.198*\"soft\"</td>\n",
       "      <td>-0.197*\"berry\"</td>\n",
       "      <td>0.195*\"dry\"</td>\n",
       "      <td>0.172*\"cabernet\"</td>\n",
       "      <td>0.162*\"white\"</td>\n",
       "      <td>-0.154*\"red\"</td>\n",
       "    </tr>\n",
       "  </tbody>\n",
       "</table>\n",
       "</div>"
      ],
      "text/plain": [
       "                   0                  1                  2                 3  \\\n",
       "0      0.480*\"wine\"     0.388*\"flavor\"      0.332*\"fruit\"    0.190*\"finish\"    \n",
       "1     -0.683*\"wine\"     0.421*\"flavor\"     0.290*\"finish\"    -0.197*\"fruit\"    \n",
       "2     0.722*\"fruit\"    -0.411*\"flavor\"      -0.349*\"wine\"     0.146*\"black\"    \n",
       "3    0.417*\"cherry\"     0.343*\"tannin\"      0.293*\"black\"    -0.200*\"apple\"    \n",
       "4    0.406*\"flavor\"      0.389*\"fruit\"     -0.368*\"aroma\"     -0.300*\"wine\"    \n",
       "5  -0.466*\"acidity\"     0.394*\"flavor\"    -0.295*\"cherry\"     -0.239*\"note\"    \n",
       "6   -0.477*\"cherry\"     0.357*\"finish\"     0.279*\"tannin\"      -0.254*\"red\"    \n",
       "7  -0.446*\"acidity\"    -0.349*\"tannin\"     0.293*\"finish\"    -0.275*\"aroma\"    \n",
       "8      0.383*\"ripe\"    -0.345*\"finish\"      0.338*\"sweet\"     0.318*\"spice\"    \n",
       "9     0.388*\"black\"     -0.337*\"sweet\"    -0.321*\"finish\"     -0.228*\"ripe\"    \n",
       "\n",
       "                      4                     5                  6  \\\n",
       "0       0.173*\"cherry\"         0.164*\"aroma\"     0.161*\"tannin\"    \n",
       "1       0.197*\"palate\"         0.185*\"aroma\"     0.172*\"cherry\"    \n",
       "2       0.125*\"tannin\"          -0.123*\"dry\"     0.108*\"palate\"    \n",
       "3   0.194*\"blackberry\"       -0.190*\"finish\"     -0.188*\"fruit\"    \n",
       "4      -0.275*\"palate\"       -0.235*\"finish\"      -0.193*\"note\"    \n",
       "5        0.238*\"aroma\"        -0.214*\"drink\"     -0.163*\"crisp\"    \n",
       "6         0.229*\"ripe\"    0.196*\"blackberry\"       0.194*\"note\"    \n",
       "7       -0.261*\"berry\"          0.237*\"note\"     0.212*\"cherry\"    \n",
       "8         -0.247*\"dry\"          0.235*\"rich\"    -0.214*\"tannin\"    \n",
       "9        -0.198*\"soft\"        -0.197*\"berry\"        0.195*\"dry\"    \n",
       "\n",
       "                    7                   8                9  \n",
       "0    0.145*\"acidity\"      0.126*\"palate\"      0.126*\"ripe\"  \n",
       "1       0.097*\"note\"        0.088*\"nose\"     0.082*\"berry\"  \n",
       "2      0.107*\"aroma\"        0.093*\"note\"    0.079*\"finish\"  \n",
       "3    -0.162*\"citrus\"    -0.153*\"acidity\"    -0.143*\"aroma\"  \n",
       "4    0.173*\"acidity\"      -0.153*\"berry\"      0.133*\"ripe\"  \n",
       "5     -0.158*\"fresh\"        0.156*\"wine\"      -0.143*\"dry\"  \n",
       "6     -0.186*\"fruit\"       0.174*\"drink\"      0.157*\"rich\"  \n",
       "7        0.175*\"oak\"       -0.175*\"ripe\"     0.162*\"fruit\"  \n",
       "8      0.213*\"aroma\"         0.172*\"oak\"      -0.162*\"red\"  \n",
       "9   0.172*\"cabernet\"       0.162*\"white\"      -0.154*\"red\"  "
      ]
     },
     "execution_count": 18,
     "metadata": {},
     "output_type": "execute_result"
    }
   ],
   "source": [
    "results = lsa.print_topics(num_topics=10, num_words=10)\n",
    "\n",
    "results = [entry[1].split('+') for entry in results]\n",
    "\n",
    "dataframe = pd.DataFrame(results)\n",
    "dataframe"
   ]
  },
  {
   "cell_type": "code",
   "execution_count": null,
   "metadata": {},
   "outputs": [],
   "source": []
  }
 ],
 "metadata": {
  "kernelspec": {
   "display_name": "spnjup",
   "language": "python",
   "name": "spn"
  },
  "language_info": {
   "codemirror_mode": {
    "name": "ipython",
    "version": 3
   },
   "file_extension": ".py",
   "mimetype": "text/x-python",
   "name": "python",
   "nbconvert_exporter": "python",
   "pygments_lexer": "ipython3",
   "version": "3.5.4"
  }
 },
 "nbformat": 4,
 "nbformat_minor": 2
}
